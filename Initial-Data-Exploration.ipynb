{
 "cells": [
  {
   "cell_type": "markdown",
   "metadata": {},
   "source": [
    "# NBA  Project"
   ]
  },
  {
   "cell_type": "markdown",
   "metadata": {},
   "source": [
    "### Import packages and begin evaluating endpoints"
   ]
  },
  {
   "cell_type": "code",
   "execution_count": 21,
   "metadata": {},
   "outputs": [],
   "source": [
    "import pandas as pd"
   ]
  },
  {
   "cell_type": "code",
   "execution_count": 22,
   "metadata": {},
   "outputs": [],
   "source": [
    "from nba_api.stats.endpoints import teamyearbyyearstats"
   ]
  },
  {
   "cell_type": "code",
   "execution_count": 23,
   "metadata": {},
   "outputs": [],
   "source": [
    "from nba_api.stats.static import teams\n",
    "# get_teams returns a list of 30 dictionaries, each an NBA team.\n",
    "nba_teams = teams.get_teams()"
   ]
  },
  {
   "cell_type": "code",
   "execution_count": 24,
   "metadata": {},
   "outputs": [
    {
     "output_type": "execute_result",
     "data": {
      "text/plain": [
       "{'id': 1610612764,\n",
       " 'full_name': 'Washington Wizards',\n",
       " 'abbreviation': 'WAS',\n",
       " 'nickname': 'Wizards',\n",
       " 'city': 'Washington',\n",
       " 'state': 'District of Columbia',\n",
       " 'year_founded': 1961}"
      ]
     },
     "metadata": {},
     "execution_count": 24
    }
   ],
   "source": [
    "wiz = [team for team in nba_teams\n",
    "         if team['full_name'] == 'Washington Wizards'][0]\n",
    "wiz"
   ]
  },
  {
   "cell_type": "code",
   "execution_count": 25,
   "metadata": {},
   "outputs": [
    {
     "output_type": "execute_result",
     "data": {
      "text/plain": [
       "      TEAM_ID  TEAM_CITY TEAM_NAME     YEAR  GP  WINS  LOSSES  WIN_PCT  \\\n",
       "0  1610612764    Chicago   Packers  1961-62  80    18      62    0.225   \n",
       "1  1610612764    Chicago   Zephyrs  1962-63  80    25      55    0.313   \n",
       "2  1610612764  Baltimore   Bullets  1963-64  80    31      49    0.388   \n",
       "3  1610612764  Baltimore   Bullets  1964-65  80    37      43    0.463   \n",
       "4  1610612764  Baltimore   Bullets  1965-66  80    38      42    0.475   \n",
       "\n",
       "   CONF_RANK  DIV_RANK  ...  OREB  DREB  REB   AST    PF  STL  TOV  BLK   PTS  \\\n",
       "0          0         5  ...     0     0    0  1802  1954    0    0    0  8874   \n",
       "1          0         5  ...     0     0    0  1773  2065    0    0    0  8795   \n",
       "2          0         4  ...     0     0    0  1423  2073    0    0    0  8948   \n",
       "3          0         3  ...     0     0    0  1676  2119    0    0    0  9087   \n",
       "4          0         2  ...     0     0    0  1890  2199    0    0    0  9465   \n",
       "\n",
       "   PTS_RANK  \n",
       "0         9  \n",
       "1         8  \n",
       "2         5  \n",
       "3         2  \n",
       "4         2  \n",
       "\n",
       "[5 rows x 34 columns]"
      ],
      "text/html": "<div>\n<style scoped>\n    .dataframe tbody tr th:only-of-type {\n        vertical-align: middle;\n    }\n\n    .dataframe tbody tr th {\n        vertical-align: top;\n    }\n\n    .dataframe thead th {\n        text-align: right;\n    }\n</style>\n<table border=\"1\" class=\"dataframe\">\n  <thead>\n    <tr style=\"text-align: right;\">\n      <th></th>\n      <th>TEAM_ID</th>\n      <th>TEAM_CITY</th>\n      <th>TEAM_NAME</th>\n      <th>YEAR</th>\n      <th>GP</th>\n      <th>WINS</th>\n      <th>LOSSES</th>\n      <th>WIN_PCT</th>\n      <th>CONF_RANK</th>\n      <th>DIV_RANK</th>\n      <th>...</th>\n      <th>OREB</th>\n      <th>DREB</th>\n      <th>REB</th>\n      <th>AST</th>\n      <th>PF</th>\n      <th>STL</th>\n      <th>TOV</th>\n      <th>BLK</th>\n      <th>PTS</th>\n      <th>PTS_RANK</th>\n    </tr>\n  </thead>\n  <tbody>\n    <tr>\n      <th>0</th>\n      <td>1610612764</td>\n      <td>Chicago</td>\n      <td>Packers</td>\n      <td>1961-62</td>\n      <td>80</td>\n      <td>18</td>\n      <td>62</td>\n      <td>0.225</td>\n      <td>0</td>\n      <td>5</td>\n      <td>...</td>\n      <td>0</td>\n      <td>0</td>\n      <td>0</td>\n      <td>1802</td>\n      <td>1954</td>\n      <td>0</td>\n      <td>0</td>\n      <td>0</td>\n      <td>8874</td>\n      <td>9</td>\n    </tr>\n    <tr>\n      <th>1</th>\n      <td>1610612764</td>\n      <td>Chicago</td>\n      <td>Zephyrs</td>\n      <td>1962-63</td>\n      <td>80</td>\n      <td>25</td>\n      <td>55</td>\n      <td>0.313</td>\n      <td>0</td>\n      <td>5</td>\n      <td>...</td>\n      <td>0</td>\n      <td>0</td>\n      <td>0</td>\n      <td>1773</td>\n      <td>2065</td>\n      <td>0</td>\n      <td>0</td>\n      <td>0</td>\n      <td>8795</td>\n      <td>8</td>\n    </tr>\n    <tr>\n      <th>2</th>\n      <td>1610612764</td>\n      <td>Baltimore</td>\n      <td>Bullets</td>\n      <td>1963-64</td>\n      <td>80</td>\n      <td>31</td>\n      <td>49</td>\n      <td>0.388</td>\n      <td>0</td>\n      <td>4</td>\n      <td>...</td>\n      <td>0</td>\n      <td>0</td>\n      <td>0</td>\n      <td>1423</td>\n      <td>2073</td>\n      <td>0</td>\n      <td>0</td>\n      <td>0</td>\n      <td>8948</td>\n      <td>5</td>\n    </tr>\n    <tr>\n      <th>3</th>\n      <td>1610612764</td>\n      <td>Baltimore</td>\n      <td>Bullets</td>\n      <td>1964-65</td>\n      <td>80</td>\n      <td>37</td>\n      <td>43</td>\n      <td>0.463</td>\n      <td>0</td>\n      <td>3</td>\n      <td>...</td>\n      <td>0</td>\n      <td>0</td>\n      <td>0</td>\n      <td>1676</td>\n      <td>2119</td>\n      <td>0</td>\n      <td>0</td>\n      <td>0</td>\n      <td>9087</td>\n      <td>2</td>\n    </tr>\n    <tr>\n      <th>4</th>\n      <td>1610612764</td>\n      <td>Baltimore</td>\n      <td>Bullets</td>\n      <td>1965-66</td>\n      <td>80</td>\n      <td>38</td>\n      <td>42</td>\n      <td>0.475</td>\n      <td>0</td>\n      <td>2</td>\n      <td>...</td>\n      <td>0</td>\n      <td>0</td>\n      <td>0</td>\n      <td>1890</td>\n      <td>2199</td>\n      <td>0</td>\n      <td>0</td>\n      <td>0</td>\n      <td>9465</td>\n      <td>2</td>\n    </tr>\n  </tbody>\n</table>\n<p>5 rows × 34 columns</p>\n</div>"
     },
     "metadata": {},
     "execution_count": 25
    }
   ],
   "source": [
    "wiz_id = '1610612764'\n",
    "wiz_stats = teamyearbyyearstats.TeamYearByYearStats(team_id=wiz_id)\n",
    "all_wiz_stats = wiz_stats.get_data_frames()[0]\n",
    "all_wiz_stats.head(5)"
   ]
  },
  {
   "cell_type": "code",
   "execution_count": 26,
   "metadata": {},
   "outputs": [
    {
     "output_type": "execute_result",
     "data": {
      "text/plain": [
       "Index(['TEAM_ID', 'TEAM_CITY', 'TEAM_NAME', 'YEAR', 'GP', 'WINS', 'LOSSES',\n",
       "       'WIN_PCT', 'CONF_RANK', 'DIV_RANK', 'PO_WINS', 'PO_LOSSES',\n",
       "       'CONF_COUNT', 'DIV_COUNT', 'NBA_FINALS_APPEARANCE', 'FGM', 'FGA',\n",
       "       'FG_PCT', 'FG3M', 'FG3A', 'FG3_PCT', 'FTM', 'FTA', 'FT_PCT', 'OREB',\n",
       "       'DREB', 'REB', 'AST', 'PF', 'STL', 'TOV', 'BLK', 'PTS', 'PTS_RANK'],\n",
       "      dtype='object')"
      ]
     },
     "metadata": {},
     "execution_count": 26
    }
   ],
   "source": [
    "all_wiz_stats.columns"
   ]
  },
  {
   "cell_type": "code",
   "execution_count": 27,
   "metadata": {},
   "outputs": [],
   "source": [
    "from nba_api.stats.endpoints import leaguedashteamstats"
   ]
  },
  {
   "cell_type": "code",
   "execution_count": 60,
   "metadata": {},
   "outputs": [
    {
     "output_type": "execute_result",
     "data": {
      "text/plain": [
       "['2010-11',\n",
       " '2011-12',\n",
       " '2012-13',\n",
       " '2013-14',\n",
       " '2014-15',\n",
       " '2015-16',\n",
       " '2016-17',\n",
       " '2017-18',\n",
       " '2018-19',\n",
       " '2019-20']"
      ]
     },
     "metadata": {},
     "execution_count": 60
    }
   ],
   "source": [
    "years = ['2010-11','2011-12','2012-13','2013-14','2014-15','2015-16','2016-17','2017-18','2018-19','2019-20']\n",
    "years"
   ]
  },
  {
   "cell_type": "code",
   "execution_count": 61,
   "metadata": {},
   "outputs": [
    {
     "output_type": "execute_result",
     "data": {
      "text/plain": [
       "array(['2010-11', '2011-12', '2012-13', '2013-14', '2014-15', '2015-16',\n",
       "       '2016-17', '2017-18', '2018-19', '2019-20'], dtype=object)"
      ]
     },
     "metadata": {},
     "execution_count": 61
    }
   ],
   "source": [
    "all_scoring_stats = pd.DataFrame()\n",
    "for year in years:\n",
    "    scoring = leaguedashteamstats.LeagueDashTeamStats(season = year)\n",
    "    scoring_stats = scoring.get_data_frames()[0]\n",
    "    scoring_stats['SEASON'] = year\n",
    "    all_scoring_stats = all_scoring_stats.append(scoring_stats)\n",
    "all_scoring_stats['SEASON'].unique()"
   ]
  },
  {
   "cell_type": "code",
   "execution_count": 64,
   "metadata": {},
   "outputs": [],
   "source": [
    "# Create CSV\n",
    "all_scoring_stats.to_csv('team_stats.csv',index=False)"
   ]
  },
  {
   "cell_type": "code",
   "execution_count": 65,
   "metadata": {},
   "outputs": [
    {
     "output_type": "execute_result",
     "data": {
      "text/plain": [
       "       TEAM_ID           TEAM_NAME  GP   W   L  W_PCT     MIN   FGM   FGA  \\\n",
       "29  1610612764  Washington Wizards  82  23  59  0.280  3986.0  3048  6888   \n",
       "29  1610612764  Washington Wizards  66  20  46  0.303  3173.0  2414  5475   \n",
       "29  1610612764  Washington Wizards  82  29  53  0.354  3971.0  2910  6693   \n",
       "29  1610612764  Washington Wizards  82  44  38  0.537  4011.0  3177  6920   \n",
       "29  1610612764  Washington Wizards  82  46  36  0.561  3991.0  3139  6790   \n",
       "29  1610612764  Washington Wizards  82  41  41  0.500  3951.0  3238  7033   \n",
       "29  1610612764  Washington Wizards  82  49  33  0.598  3971.0  3388  7137   \n",
       "29  1610612764  Washington Wizards  82  43  39  0.524  3971.0  3275  7018   \n",
       "29  1610612764  Washington Wizards  82  32  50  0.390  3986.0  3456  7387   \n",
       "29  1610612764  Washington Wizards  72  25  47  0.347  3471.0  2990  6544   \n",
       "\n",
       "    FG_PCT  ...  STL_RANK  BLK_RANK  BLKA_RANK  PF_RANK  PFD_RANK  PTS_RANK  \\\n",
       "29   0.443  ...         4         1         20       29        21        21   \n",
       "29   0.441  ...        13         2          7       26        23        22   \n",
       "29   0.435  ...        20        21          7       20        21        28   \n",
       "29   0.459  ...        11        15          7       13        23        16   \n",
       "29   0.462  ...        20        16          6       17        21        17   \n",
       "29   0.460  ...         8        26          6       21        16         9   \n",
       "29   0.475  ...         2        24         10       27        18         5   \n",
       "29   0.467  ...        10        22         13       25        15        13   \n",
       "29   0.468  ...         7        23         10       13        12        10   \n",
       "29   0.457  ...        10        22         20       30         4         8   \n",
       "\n",
       "    PLUS_MINUS_RANK  CFID            CFPARAMS   SEASON  \n",
       "29               29    10  Washington Wizards  2010-11  \n",
       "29               26    10  Washington Wizards  2011-12  \n",
       "29               21    10  Washington Wizards  2012-13  \n",
       "29               15    10  Washington Wizards  2013-14  \n",
       "29               14    10  Washington Wizards  2014-15  \n",
       "29               17    10  Washington Wizards  2015-16  \n",
       "29                9    10  Washington Wizards  2016-17  \n",
       "29               15    10  Washington Wizards  2017-18  \n",
       "29               25    10  Washington Wizards  2018-19  \n",
       "29               25    10  Washington Wizards  2019-20  \n",
       "\n",
       "[10 rows x 57 columns]"
      ],
      "text/html": "<div>\n<style scoped>\n    .dataframe tbody tr th:only-of-type {\n        vertical-align: middle;\n    }\n\n    .dataframe tbody tr th {\n        vertical-align: top;\n    }\n\n    .dataframe thead th {\n        text-align: right;\n    }\n</style>\n<table border=\"1\" class=\"dataframe\">\n  <thead>\n    <tr style=\"text-align: right;\">\n      <th></th>\n      <th>TEAM_ID</th>\n      <th>TEAM_NAME</th>\n      <th>GP</th>\n      <th>W</th>\n      <th>L</th>\n      <th>W_PCT</th>\n      <th>MIN</th>\n      <th>FGM</th>\n      <th>FGA</th>\n      <th>FG_PCT</th>\n      <th>...</th>\n      <th>STL_RANK</th>\n      <th>BLK_RANK</th>\n      <th>BLKA_RANK</th>\n      <th>PF_RANK</th>\n      <th>PFD_RANK</th>\n      <th>PTS_RANK</th>\n      <th>PLUS_MINUS_RANK</th>\n      <th>CFID</th>\n      <th>CFPARAMS</th>\n      <th>SEASON</th>\n    </tr>\n  </thead>\n  <tbody>\n    <tr>\n      <th>29</th>\n      <td>1610612764</td>\n      <td>Washington Wizards</td>\n      <td>82</td>\n      <td>23</td>\n      <td>59</td>\n      <td>0.280</td>\n      <td>3986.0</td>\n      <td>3048</td>\n      <td>6888</td>\n      <td>0.443</td>\n      <td>...</td>\n      <td>4</td>\n      <td>1</td>\n      <td>20</td>\n      <td>29</td>\n      <td>21</td>\n      <td>21</td>\n      <td>29</td>\n      <td>10</td>\n      <td>Washington Wizards</td>\n      <td>2010-11</td>\n    </tr>\n    <tr>\n      <th>29</th>\n      <td>1610612764</td>\n      <td>Washington Wizards</td>\n      <td>66</td>\n      <td>20</td>\n      <td>46</td>\n      <td>0.303</td>\n      <td>3173.0</td>\n      <td>2414</td>\n      <td>5475</td>\n      <td>0.441</td>\n      <td>...</td>\n      <td>13</td>\n      <td>2</td>\n      <td>7</td>\n      <td>26</td>\n      <td>23</td>\n      <td>22</td>\n      <td>26</td>\n      <td>10</td>\n      <td>Washington Wizards</td>\n      <td>2011-12</td>\n    </tr>\n    <tr>\n      <th>29</th>\n      <td>1610612764</td>\n      <td>Washington Wizards</td>\n      <td>82</td>\n      <td>29</td>\n      <td>53</td>\n      <td>0.354</td>\n      <td>3971.0</td>\n      <td>2910</td>\n      <td>6693</td>\n      <td>0.435</td>\n      <td>...</td>\n      <td>20</td>\n      <td>21</td>\n      <td>7</td>\n      <td>20</td>\n      <td>21</td>\n      <td>28</td>\n      <td>21</td>\n      <td>10</td>\n      <td>Washington Wizards</td>\n      <td>2012-13</td>\n    </tr>\n    <tr>\n      <th>29</th>\n      <td>1610612764</td>\n      <td>Washington Wizards</td>\n      <td>82</td>\n      <td>44</td>\n      <td>38</td>\n      <td>0.537</td>\n      <td>4011.0</td>\n      <td>3177</td>\n      <td>6920</td>\n      <td>0.459</td>\n      <td>...</td>\n      <td>11</td>\n      <td>15</td>\n      <td>7</td>\n      <td>13</td>\n      <td>23</td>\n      <td>16</td>\n      <td>15</td>\n      <td>10</td>\n      <td>Washington Wizards</td>\n      <td>2013-14</td>\n    </tr>\n    <tr>\n      <th>29</th>\n      <td>1610612764</td>\n      <td>Washington Wizards</td>\n      <td>82</td>\n      <td>46</td>\n      <td>36</td>\n      <td>0.561</td>\n      <td>3991.0</td>\n      <td>3139</td>\n      <td>6790</td>\n      <td>0.462</td>\n      <td>...</td>\n      <td>20</td>\n      <td>16</td>\n      <td>6</td>\n      <td>17</td>\n      <td>21</td>\n      <td>17</td>\n      <td>14</td>\n      <td>10</td>\n      <td>Washington Wizards</td>\n      <td>2014-15</td>\n    </tr>\n    <tr>\n      <th>29</th>\n      <td>1610612764</td>\n      <td>Washington Wizards</td>\n      <td>82</td>\n      <td>41</td>\n      <td>41</td>\n      <td>0.500</td>\n      <td>3951.0</td>\n      <td>3238</td>\n      <td>7033</td>\n      <td>0.460</td>\n      <td>...</td>\n      <td>8</td>\n      <td>26</td>\n      <td>6</td>\n      <td>21</td>\n      <td>16</td>\n      <td>9</td>\n      <td>17</td>\n      <td>10</td>\n      <td>Washington Wizards</td>\n      <td>2015-16</td>\n    </tr>\n    <tr>\n      <th>29</th>\n      <td>1610612764</td>\n      <td>Washington Wizards</td>\n      <td>82</td>\n      <td>49</td>\n      <td>33</td>\n      <td>0.598</td>\n      <td>3971.0</td>\n      <td>3388</td>\n      <td>7137</td>\n      <td>0.475</td>\n      <td>...</td>\n      <td>2</td>\n      <td>24</td>\n      <td>10</td>\n      <td>27</td>\n      <td>18</td>\n      <td>5</td>\n      <td>9</td>\n      <td>10</td>\n      <td>Washington Wizards</td>\n      <td>2016-17</td>\n    </tr>\n    <tr>\n      <th>29</th>\n      <td>1610612764</td>\n      <td>Washington Wizards</td>\n      <td>82</td>\n      <td>43</td>\n      <td>39</td>\n      <td>0.524</td>\n      <td>3971.0</td>\n      <td>3275</td>\n      <td>7018</td>\n      <td>0.467</td>\n      <td>...</td>\n      <td>10</td>\n      <td>22</td>\n      <td>13</td>\n      <td>25</td>\n      <td>15</td>\n      <td>13</td>\n      <td>15</td>\n      <td>10</td>\n      <td>Washington Wizards</td>\n      <td>2017-18</td>\n    </tr>\n    <tr>\n      <th>29</th>\n      <td>1610612764</td>\n      <td>Washington Wizards</td>\n      <td>82</td>\n      <td>32</td>\n      <td>50</td>\n      <td>0.390</td>\n      <td>3986.0</td>\n      <td>3456</td>\n      <td>7387</td>\n      <td>0.468</td>\n      <td>...</td>\n      <td>7</td>\n      <td>23</td>\n      <td>10</td>\n      <td>13</td>\n      <td>12</td>\n      <td>10</td>\n      <td>25</td>\n      <td>10</td>\n      <td>Washington Wizards</td>\n      <td>2018-19</td>\n    </tr>\n    <tr>\n      <th>29</th>\n      <td>1610612764</td>\n      <td>Washington Wizards</td>\n      <td>72</td>\n      <td>25</td>\n      <td>47</td>\n      <td>0.347</td>\n      <td>3471.0</td>\n      <td>2990</td>\n      <td>6544</td>\n      <td>0.457</td>\n      <td>...</td>\n      <td>10</td>\n      <td>22</td>\n      <td>20</td>\n      <td>30</td>\n      <td>4</td>\n      <td>8</td>\n      <td>25</td>\n      <td>10</td>\n      <td>Washington Wizards</td>\n      <td>2019-20</td>\n    </tr>\n  </tbody>\n</table>\n<p>10 rows × 57 columns</p>\n</div>"
     },
     "metadata": {},
     "execution_count": 65
    }
   ],
   "source": [
    "all_scoring_stats[all_scoring_stats['TEAM_NAME']=='Washington Wizards']"
   ]
  },
  {
   "cell_type": "code",
   "execution_count": 44,
   "metadata": {},
   "outputs": [],
   "source": [
    "import plotly.graph_objs as go\n",
    "from plotly.offline import init_notebook_mode, iplot"
   ]
  },
  {
   "cell_type": "code",
   "execution_count": 57,
   "metadata": {},
   "outputs": [],
   "source": [
    "from nba_api.stats.endpoints import leaguedashplayerstats"
   ]
  },
  {
   "cell_type": "code",
   "execution_count": 66,
   "metadata": {},
   "outputs": [
    {
     "output_type": "execute_result",
     "data": {
      "text/plain": [
       "array(['2010-11', '2011-12', '2012-13', '2013-14', '2014-15', '2015-16',\n",
       "       '2016-17', '2017-18', '2018-19', '2019-20'], dtype=object)"
      ]
     },
     "metadata": {},
     "execution_count": 66
    }
   ],
   "source": [
    "all_season_stats = pd.DataFrame()\n",
    "for year in years:\n",
    "    all_stats = leaguedashplayerstats.LeagueDashPlayerStats(season = year)\n",
    "    all_season_stats_x = all_stats.get_data_frames()[0]\n",
    "    all_season_stats_x['SEASON'] = year\n",
    "    all_season_stats = all_season_stats.append(all_season_stats_x)\n",
    "all_season_stats['SEASON'].unique()"
   ]
  },
  {
   "cell_type": "code",
   "execution_count": 67,
   "metadata": {},
   "outputs": [],
   "source": [
    "# Export to CSV\n",
    "all_season_stats.to_csv('all_season_stats.csv',index=False)"
   ]
  },
  {
   "cell_type": "code",
   "execution_count": null,
   "metadata": {},
   "outputs": [],
   "source": [
    "from nba_api.stats.endpoints import shotchartdetail"
   ]
  },
  {
   "cell_type": "code",
   "execution_count": null,
   "metadata": {},
   "outputs": [],
   "source": [
    "beal_id = '203078'\n",
    "beal_shotchart = shotchartdetail.ShotChartDetail(player_id = beal_id, team_id = wiz_id, season_nullable='2019-20',context_measure_simple='FGA')\n",
    "beal_shotchart_stats = beal_shotchart.get_data_frames()[0]"
   ]
  },
  {
   "cell_type": "code",
   "execution_count": null,
   "metadata": {},
   "outputs": [],
   "source": [
    "wiz_shotchart = shotchartdetail.ShotChartDetail(player_id = 0, team_id = wiz_id, season_nullable='2018-19',context_measure_simple='FGA')\n",
    "wiz_shotchart_stats = wiz_shotchart.get_data_frames()[0]\n",
    "wiz_shotchart_stats[\"SEASON\"] = '2018-19'\n",
    "wiz_shotchart_2 = shotchartdetail.ShotChartDetail(player_id = 0, team_id = wiz_id, season_nullable='2019-20',context_measure_simple='FGA')\n",
    "wiz_shotchart_stats_2 = wiz_shotchart_2.get_data_frames()[0]\n",
    "wiz_shotchart_stats_2[\"SEASON\"] = '2019-20'\n",
    "wiz_shot_stats = pd.DataFrame(wiz_shotchart_stats)\n",
    "wiz_shot_stats = wiz_shot_stats.append(wiz_shotchart_stats_2)\n",
    "wiz_shot_stats.head(5)"
   ]
  },
  {
   "cell_type": "code",
   "execution_count": null,
   "metadata": {},
   "outputs": [],
   "source": [
    "#Print to CSV\n",
    "#wiz_shot_stats.to_csv(r'C:\\Users\\jakes\\Documents\\DAEN\\Fall 2020\\AIT664\\wiz_shot_stats.csv',index=False)"
   ]
  },
  {
   "cell_type": "markdown",
   "metadata": {},
   "source": [
    "### Begin Creating Charts"
   ]
  },
  {
   "cell_type": "code",
   "execution_count": null,
   "metadata": {},
   "outputs": [],
   "source": []
  },
  {
   "cell_type": "code",
   "execution_count": null,
   "metadata": {},
   "outputs": [],
   "source": [
    "import plotly.graph_objs as go\n",
    "from plotly.offline import init_notebook_mode, iplot"
   ]
  },
  {
   "cell_type": "code",
   "execution_count": null,
   "metadata": {},
   "outputs": [],
   "source": []
  },
  {
   "cell_type": "markdown",
   "metadata": {},
   "source": [
    "#### Extra Possible Stats (unlikely to be needed)"
   ]
  },
  {
   "cell_type": "code",
   "execution_count": null,
   "metadata": {},
   "outputs": [],
   "source": [
    "#playerdashboardbyshootingsplits\n",
    "from nba_api.stats.endpoints import playerdashboardbyshootingsplits\n",
    "def_stats = playerdashboardbyshootingsplits.PlayerDashboardByShootingSplits(player_id=beal_id, season='2019-20')\n",
    "all_def_stats = pd.DataFrame()\n",
    "for i in range(1,7):\n",
    "    all_def_stats = all_def_stats.append(def_stats.get_data_frames()[i])\n",
    "    i = i+1\n",
    "all_def_stats.head(5)"
   ]
  },
  {
   "cell_type": "code",
   "execution_count": null,
   "metadata": {},
   "outputs": [],
   "source": []
  }
 ],
 "metadata": {
  "kernelspec": {
   "name": "Python 3.8.3 64-bit (conda)",
   "display_name": "Python 3.8.3 64-bit (conda)",
   "metadata": {
    "interpreter": {
     "hash": "eb61ff4cef9be30dbdd636ae3367baf7e3facd7d7992d52d58b51c8b356d01e6"
    }
   }
  },
  "language_info": {
   "codemirror_mode": {
    "name": "ipython",
    "version": 3
   },
   "file_extension": ".py",
   "mimetype": "text/x-python",
   "name": "python",
   "nbconvert_exporter": "python",
   "pygments_lexer": "ipython3",
   "version": "3.8.3-final"
  }
 },
 "nbformat": 4,
 "nbformat_minor": 2
}