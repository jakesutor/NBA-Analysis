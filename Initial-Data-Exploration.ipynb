{
 "cells": [
  {
   "cell_type": "markdown",
   "metadata": {},
   "source": [
    "# NBA  Project"
   ]
  },
  {
   "source": [
    "## Introduction"
   ],
   "cell_type": "markdown",
   "metadata": {}
  },
  {
   "source": [
    "This project will analyze the Washington Wizards, focusing on the Wizards’ offensive capabilities. With Wizards star John Wall planning a return from injury in the 2020-21 NBA season, the analysis will seek to determine whether John Wall’s return will address the biggest offensive weaknesses of the Washington Wizards. My hypothesis is that in the past two seasons, when John Wall has been injured, the Wizards have lacked a top quality playmaker and that their greatest weakness is a lack of assists. Because John Wall’s greatest ability is making assists, my hypothesis is that his return will address this need."
   ],
   "cell_type": "markdown",
   "metadata": {}
  },
  {
   "source": [
    "To begin this analysis, I first had to acquire the necessary data to understand how the Washington Wizards compared to other NBA teams. As discussed in Project Deliverable 1, an immense amount of data is readily accessible directly from the NBA using a Python API called nba_api developed by Swar Patel (Patel, 2018). Using this API, I connected to several of the available endpoints "
   ],
   "cell_type": "markdown",
   "metadata": {}
  },
  {
   "cell_type": "markdown",
   "metadata": {},
   "source": [
    "## Import packages and begin evaluating endpoints"
   ]
  },
  {
   "cell_type": "code",
   "execution_count": 2,
   "metadata": {},
   "outputs": [],
   "source": [
    "import pandas as pd"
   ]
  },
  {
   "source": [
    "First, I had to collect team statistics in order to identify the ID for the Washington Wizards. This was accomplished by calling the teams endpoint."
   ],
   "cell_type": "markdown",
   "metadata": {}
  },
  {
   "cell_type": "code",
   "execution_count": 4,
   "metadata": {},
   "outputs": [],
   "source": [
    "from nba_api.stats.static import teams\n",
    "# get_teams returns a list of 30 dictionaries, each an NBA team.\n",
    "nba_teams = teams.get_teams()"
   ]
  },
  {
   "cell_type": "code",
   "execution_count": 5,
   "metadata": {},
   "outputs": [
    {
     "output_type": "execute_result",
     "data": {
      "text/plain": [
       "{'id': 1610612764,\n",
       " 'full_name': 'Washington Wizards',\n",
       " 'abbreviation': 'WAS',\n",
       " 'nickname': 'Wizards',\n",
       " 'city': 'Washington',\n",
       " 'state': 'District of Columbia',\n",
       " 'year_founded': 1961}"
      ]
     },
     "metadata": {},
     "execution_count": 5
    }
   ],
   "source": [
    "# Testing to see the results for the Wizards, in order to find the team_id\n",
    "wiz = [team for team in nba_teams\n",
    "         if team['full_name'] == 'Washington Wizards'][0]\n",
    "wiz"
   ]
  },
  {
   "source": [
    "I next referred to the teamyearbyyearstats endpoint to understand the historical statistics of the Washington Wizards. In future analysis, I determined this endpoint was not needed, but it provided a useful starting point as I began exploring the available endpoints and how they could be used in tandem to perform this analysis."
   ],
   "cell_type": "markdown",
   "metadata": {}
  },
  {
   "cell_type": "code",
   "execution_count": 6,
   "metadata": {},
   "outputs": [],
   "source": [
    "from nba_api.stats.endpoints import teamyearbyyearstats"
   ]
  },
  {
   "cell_type": "code",
   "execution_count": 7,
   "metadata": {},
   "outputs": [
    {
     "output_type": "execute_result",
     "data": {
      "text/plain": [
       "      TEAM_ID  TEAM_CITY TEAM_NAME     YEAR  GP  WINS  LOSSES  WIN_PCT  \\\n",
       "0  1610612764    Chicago   Packers  1961-62  80    18      62    0.225   \n",
       "1  1610612764    Chicago   Zephyrs  1962-63  80    25      55    0.313   \n",
       "2  1610612764  Baltimore   Bullets  1963-64  80    31      49    0.388   \n",
       "3  1610612764  Baltimore   Bullets  1964-65  80    37      43    0.463   \n",
       "4  1610612764  Baltimore   Bullets  1965-66  80    38      42    0.475   \n",
       "\n",
       "   CONF_RANK  DIV_RANK  ...  OREB  DREB  REB   AST    PF  STL  TOV  BLK   PTS  \\\n",
       "0          0         5  ...     0     0    0  1802  1954    0    0    0  8874   \n",
       "1          0         5  ...     0     0    0  1773  2065    0    0    0  8795   \n",
       "2          0         4  ...     0     0    0  1423  2073    0    0    0  8948   \n",
       "3          0         3  ...     0     0    0  1676  2119    0    0    0  9087   \n",
       "4          0         2  ...     0     0    0  1890  2199    0    0    0  9465   \n",
       "\n",
       "   PTS_RANK  \n",
       "0         9  \n",
       "1         8  \n",
       "2         5  \n",
       "3         2  \n",
       "4         2  \n",
       "\n",
       "[5 rows x 34 columns]"
      ],
      "text/html": "<div>\n<style scoped>\n    .dataframe tbody tr th:only-of-type {\n        vertical-align: middle;\n    }\n\n    .dataframe tbody tr th {\n        vertical-align: top;\n    }\n\n    .dataframe thead th {\n        text-align: right;\n    }\n</style>\n<table border=\"1\" class=\"dataframe\">\n  <thead>\n    <tr style=\"text-align: right;\">\n      <th></th>\n      <th>TEAM_ID</th>\n      <th>TEAM_CITY</th>\n      <th>TEAM_NAME</th>\n      <th>YEAR</th>\n      <th>GP</th>\n      <th>WINS</th>\n      <th>LOSSES</th>\n      <th>WIN_PCT</th>\n      <th>CONF_RANK</th>\n      <th>DIV_RANK</th>\n      <th>...</th>\n      <th>OREB</th>\n      <th>DREB</th>\n      <th>REB</th>\n      <th>AST</th>\n      <th>PF</th>\n      <th>STL</th>\n      <th>TOV</th>\n      <th>BLK</th>\n      <th>PTS</th>\n      <th>PTS_RANK</th>\n    </tr>\n  </thead>\n  <tbody>\n    <tr>\n      <th>0</th>\n      <td>1610612764</td>\n      <td>Chicago</td>\n      <td>Packers</td>\n      <td>1961-62</td>\n      <td>80</td>\n      <td>18</td>\n      <td>62</td>\n      <td>0.225</td>\n      <td>0</td>\n      <td>5</td>\n      <td>...</td>\n      <td>0</td>\n      <td>0</td>\n      <td>0</td>\n      <td>1802</td>\n      <td>1954</td>\n      <td>0</td>\n      <td>0</td>\n      <td>0</td>\n      <td>8874</td>\n      <td>9</td>\n    </tr>\n    <tr>\n      <th>1</th>\n      <td>1610612764</td>\n      <td>Chicago</td>\n      <td>Zephyrs</td>\n      <td>1962-63</td>\n      <td>80</td>\n      <td>25</td>\n      <td>55</td>\n      <td>0.313</td>\n      <td>0</td>\n      <td>5</td>\n      <td>...</td>\n      <td>0</td>\n      <td>0</td>\n      <td>0</td>\n      <td>1773</td>\n      <td>2065</td>\n      <td>0</td>\n      <td>0</td>\n      <td>0</td>\n      <td>8795</td>\n      <td>8</td>\n    </tr>\n    <tr>\n      <th>2</th>\n      <td>1610612764</td>\n      <td>Baltimore</td>\n      <td>Bullets</td>\n      <td>1963-64</td>\n      <td>80</td>\n      <td>31</td>\n      <td>49</td>\n      <td>0.388</td>\n      <td>0</td>\n      <td>4</td>\n      <td>...</td>\n      <td>0</td>\n      <td>0</td>\n      <td>0</td>\n      <td>1423</td>\n      <td>2073</td>\n      <td>0</td>\n      <td>0</td>\n      <td>0</td>\n      <td>8948</td>\n      <td>5</td>\n    </tr>\n    <tr>\n      <th>3</th>\n      <td>1610612764</td>\n      <td>Baltimore</td>\n      <td>Bullets</td>\n      <td>1964-65</td>\n      <td>80</td>\n      <td>37</td>\n      <td>43</td>\n      <td>0.463</td>\n      <td>0</td>\n      <td>3</td>\n      <td>...</td>\n      <td>0</td>\n      <td>0</td>\n      <td>0</td>\n      <td>1676</td>\n      <td>2119</td>\n      <td>0</td>\n      <td>0</td>\n      <td>0</td>\n      <td>9087</td>\n      <td>2</td>\n    </tr>\n    <tr>\n      <th>4</th>\n      <td>1610612764</td>\n      <td>Baltimore</td>\n      <td>Bullets</td>\n      <td>1965-66</td>\n      <td>80</td>\n      <td>38</td>\n      <td>42</td>\n      <td>0.475</td>\n      <td>0</td>\n      <td>2</td>\n      <td>...</td>\n      <td>0</td>\n      <td>0</td>\n      <td>0</td>\n      <td>1890</td>\n      <td>2199</td>\n      <td>0</td>\n      <td>0</td>\n      <td>0</td>\n      <td>9465</td>\n      <td>2</td>\n    </tr>\n  </tbody>\n</table>\n<p>5 rows × 34 columns</p>\n</div>"
     },
     "metadata": {},
     "execution_count": 7
    }
   ],
   "source": [
    "wiz_id = '1610612764'\n",
    "wiz_stats = teamyearbyyearstats.TeamYearByYearStats(team_id=wiz_id)\n",
    "all_wiz_stats = wiz_stats.get_data_frames()[0]\n",
    "all_wiz_stats.head(5)"
   ]
  },
  {
   "source": [
    "Having assessed the teamyearbyyearstats endpoint, I determined that for my analysis, I do not need the full set of data from 1961 to present. Instead, I referred to Basketball Reference (https://www.basketball-reference.com/players/w/walljo01.html) to determine the seasons that John Wall has played in the league. Since he started in 2010, we will focus this analysis on the years from 2010 to present (2020)."
   ],
   "cell_type": "markdown",
   "metadata": {}
  },
  {
   "cell_type": "code",
   "execution_count": 8,
   "metadata": {},
   "outputs": [
    {
     "output_type": "execute_result",
     "data": {
      "text/plain": [
       "['2010-11',\n",
       " '2011-12',\n",
       " '2012-13',\n",
       " '2013-14',\n",
       " '2014-15',\n",
       " '2015-16',\n",
       " '2016-17',\n",
       " '2017-18',\n",
       " '2018-19',\n",
       " '2019-20']"
      ]
     },
     "metadata": {},
     "execution_count": 8
    }
   ],
   "source": [
    "# John Wall joined the league in 2010, so we won't need anything before that season\n",
    "years = ['2010-11','2011-12','2012-13','2013-14','2014-15','2015-16','2016-17','2017-18','2018-19','2019-20']\n",
    "years"
   ]
  },
  {
   "source": [
    "### First data pull: team statistics by year"
   ],
   "cell_type": "markdown",
   "metadata": {}
  },
  {
   "source": [
    "Following this analysis, I determined that the teamyearbyyearstats endpoint provided more information than was necessary for this analysis, so I looked instead to the endpoint titled 'leaguedashteamstats'. This endpoint allowed me to select specific years and collect all of the team-level statistics for each team in the league."
   ],
   "cell_type": "markdown",
   "metadata": {}
  },
  {
   "cell_type": "code",
   "execution_count": 9,
   "metadata": {},
   "outputs": [],
   "source": [
    "from nba_api.stats.endpoints import leaguedashteamstats"
   ]
  },
  {
   "cell_type": "code",
   "execution_count": 10,
   "metadata": {},
   "outputs": [
    {
     "output_type": "execute_result",
     "data": {
      "text/plain": [
       "array(['2010-11', '2011-12', '2012-13', '2013-14', '2014-15', '2015-16',\n",
       "       '2016-17', '2017-18', '2018-19', '2019-20'], dtype=object)"
      ]
     },
     "metadata": {},
     "execution_count": 10
    }
   ],
   "source": [
    "# To pull the data for all years from 2010-2020, I used a for-loop to create a single dataframe.\n",
    "team_stats = pd.DataFrame()\n",
    "for year in years:\n",
    "    scoring = leaguedashteamstats.LeagueDashTeamStats(season = year)\n",
    "    scoring_stats = scoring.get_data_frames()[0]\n",
    "    scoring_stats['SEASON'] = year\n",
    "    team_stats = team_stats.append(scoring_stats)\n",
    "team_stats['SEASON'].unique()"
   ]
  },
  {
   "source": [
    "Looking specifically at the Wizards subset of the data, we see that there are now 10 rows of data for each team, from the 2010-11 season to the 2019-20 season. In looking at this data, the most obvious data cleansing that will be needed will be to account for the fact that different seasons had different number of games played (GP). In 2011-12, the season was only 66 games due to a lockout because of disputes between the players and the owners over the leagues collective bargaining agreement (CBA), largely due to debates over salary caps. Then, in 2019-20, which just ended in October 2020, the season was only 72 games because of the COVID-19 pandemic. To account for this, we will need to focus largely on the team ranks or use Per-Game statistics rather than total statistics."
   ],
   "cell_type": "markdown",
   "metadata": {}
  },
  {
   "cell_type": "code",
   "execution_count": 11,
   "metadata": {},
   "outputs": [
    {
     "output_type": "execute_result",
     "data": {
      "text/plain": [
       "       TEAM_ID           TEAM_NAME  GP   W   L  W_PCT     MIN   FGM   FGA  \\\n",
       "29  1610612764  Washington Wizards  82  23  59  0.280  3986.0  3048  6888   \n",
       "29  1610612764  Washington Wizards  66  20  46  0.303  3173.0  2414  5475   \n",
       "29  1610612764  Washington Wizards  82  29  53  0.354  3971.0  2910  6693   \n",
       "29  1610612764  Washington Wizards  82  44  38  0.537  4011.0  3177  6920   \n",
       "29  1610612764  Washington Wizards  82  46  36  0.561  3991.0  3139  6790   \n",
       "29  1610612764  Washington Wizards  82  41  41  0.500  3951.0  3238  7033   \n",
       "29  1610612764  Washington Wizards  82  49  33  0.598  3971.0  3388  7137   \n",
       "29  1610612764  Washington Wizards  82  43  39  0.524  3971.0  3275  7018   \n",
       "29  1610612764  Washington Wizards  82  32  50  0.390  3986.0  3456  7387   \n",
       "29  1610612764  Washington Wizards  72  25  47  0.347  3471.0  2990  6544   \n",
       "\n",
       "    FG_PCT  ...  STL_RANK  BLK_RANK  BLKA_RANK  PF_RANK  PFD_RANK  PTS_RANK  \\\n",
       "29   0.443  ...         4         1         20       29        21        21   \n",
       "29   0.441  ...        13         2          7       26        23        22   \n",
       "29   0.435  ...        20        21          7       20        21        28   \n",
       "29   0.459  ...        11        15          7       13        23        16   \n",
       "29   0.462  ...        20        16          6       17        21        17   \n",
       "29   0.460  ...         8        26          6       21        16         9   \n",
       "29   0.475  ...         2        24         10       27        18         5   \n",
       "29   0.467  ...        10        22         13       25        15        13   \n",
       "29   0.468  ...         7        23         10       13        12        10   \n",
       "29   0.457  ...        10        22         20       30         4         8   \n",
       "\n",
       "    PLUS_MINUS_RANK  CFID            CFPARAMS   SEASON  \n",
       "29               29    10  Washington Wizards  2010-11  \n",
       "29               26    10  Washington Wizards  2011-12  \n",
       "29               21    10  Washington Wizards  2012-13  \n",
       "29               15    10  Washington Wizards  2013-14  \n",
       "29               14    10  Washington Wizards  2014-15  \n",
       "29               17    10  Washington Wizards  2015-16  \n",
       "29                9    10  Washington Wizards  2016-17  \n",
       "29               15    10  Washington Wizards  2017-18  \n",
       "29               25    10  Washington Wizards  2018-19  \n",
       "29               25    10  Washington Wizards  2019-20  \n",
       "\n",
       "[10 rows x 57 columns]"
      ],
      "text/html": "<div>\n<style scoped>\n    .dataframe tbody tr th:only-of-type {\n        vertical-align: middle;\n    }\n\n    .dataframe tbody tr th {\n        vertical-align: top;\n    }\n\n    .dataframe thead th {\n        text-align: right;\n    }\n</style>\n<table border=\"1\" class=\"dataframe\">\n  <thead>\n    <tr style=\"text-align: right;\">\n      <th></th>\n      <th>TEAM_ID</th>\n      <th>TEAM_NAME</th>\n      <th>GP</th>\n      <th>W</th>\n      <th>L</th>\n      <th>W_PCT</th>\n      <th>MIN</th>\n      <th>FGM</th>\n      <th>FGA</th>\n      <th>FG_PCT</th>\n      <th>...</th>\n      <th>STL_RANK</th>\n      <th>BLK_RANK</th>\n      <th>BLKA_RANK</th>\n      <th>PF_RANK</th>\n      <th>PFD_RANK</th>\n      <th>PTS_RANK</th>\n      <th>PLUS_MINUS_RANK</th>\n      <th>CFID</th>\n      <th>CFPARAMS</th>\n      <th>SEASON</th>\n    </tr>\n  </thead>\n  <tbody>\n    <tr>\n      <th>29</th>\n      <td>1610612764</td>\n      <td>Washington Wizards</td>\n      <td>82</td>\n      <td>23</td>\n      <td>59</td>\n      <td>0.280</td>\n      <td>3986.0</td>\n      <td>3048</td>\n      <td>6888</td>\n      <td>0.443</td>\n      <td>...</td>\n      <td>4</td>\n      <td>1</td>\n      <td>20</td>\n      <td>29</td>\n      <td>21</td>\n      <td>21</td>\n      <td>29</td>\n      <td>10</td>\n      <td>Washington Wizards</td>\n      <td>2010-11</td>\n    </tr>\n    <tr>\n      <th>29</th>\n      <td>1610612764</td>\n      <td>Washington Wizards</td>\n      <td>66</td>\n      <td>20</td>\n      <td>46</td>\n      <td>0.303</td>\n      <td>3173.0</td>\n      <td>2414</td>\n      <td>5475</td>\n      <td>0.441</td>\n      <td>...</td>\n      <td>13</td>\n      <td>2</td>\n      <td>7</td>\n      <td>26</td>\n      <td>23</td>\n      <td>22</td>\n      <td>26</td>\n      <td>10</td>\n      <td>Washington Wizards</td>\n      <td>2011-12</td>\n    </tr>\n    <tr>\n      <th>29</th>\n      <td>1610612764</td>\n      <td>Washington Wizards</td>\n      <td>82</td>\n      <td>29</td>\n      <td>53</td>\n      <td>0.354</td>\n      <td>3971.0</td>\n      <td>2910</td>\n      <td>6693</td>\n      <td>0.435</td>\n      <td>...</td>\n      <td>20</td>\n      <td>21</td>\n      <td>7</td>\n      <td>20</td>\n      <td>21</td>\n      <td>28</td>\n      <td>21</td>\n      <td>10</td>\n      <td>Washington Wizards</td>\n      <td>2012-13</td>\n    </tr>\n    <tr>\n      <th>29</th>\n      <td>1610612764</td>\n      <td>Washington Wizards</td>\n      <td>82</td>\n      <td>44</td>\n      <td>38</td>\n      <td>0.537</td>\n      <td>4011.0</td>\n      <td>3177</td>\n      <td>6920</td>\n      <td>0.459</td>\n      <td>...</td>\n      <td>11</td>\n      <td>15</td>\n      <td>7</td>\n      <td>13</td>\n      <td>23</td>\n      <td>16</td>\n      <td>15</td>\n      <td>10</td>\n      <td>Washington Wizards</td>\n      <td>2013-14</td>\n    </tr>\n    <tr>\n      <th>29</th>\n      <td>1610612764</td>\n      <td>Washington Wizards</td>\n      <td>82</td>\n      <td>46</td>\n      <td>36</td>\n      <td>0.561</td>\n      <td>3991.0</td>\n      <td>3139</td>\n      <td>6790</td>\n      <td>0.462</td>\n      <td>...</td>\n      <td>20</td>\n      <td>16</td>\n      <td>6</td>\n      <td>17</td>\n      <td>21</td>\n      <td>17</td>\n      <td>14</td>\n      <td>10</td>\n      <td>Washington Wizards</td>\n      <td>2014-15</td>\n    </tr>\n    <tr>\n      <th>29</th>\n      <td>1610612764</td>\n      <td>Washington Wizards</td>\n      <td>82</td>\n      <td>41</td>\n      <td>41</td>\n      <td>0.500</td>\n      <td>3951.0</td>\n      <td>3238</td>\n      <td>7033</td>\n      <td>0.460</td>\n      <td>...</td>\n      <td>8</td>\n      <td>26</td>\n      <td>6</td>\n      <td>21</td>\n      <td>16</td>\n      <td>9</td>\n      <td>17</td>\n      <td>10</td>\n      <td>Washington Wizards</td>\n      <td>2015-16</td>\n    </tr>\n    <tr>\n      <th>29</th>\n      <td>1610612764</td>\n      <td>Washington Wizards</td>\n      <td>82</td>\n      <td>49</td>\n      <td>33</td>\n      <td>0.598</td>\n      <td>3971.0</td>\n      <td>3388</td>\n      <td>7137</td>\n      <td>0.475</td>\n      <td>...</td>\n      <td>2</td>\n      <td>24</td>\n      <td>10</td>\n      <td>27</td>\n      <td>18</td>\n      <td>5</td>\n      <td>9</td>\n      <td>10</td>\n      <td>Washington Wizards</td>\n      <td>2016-17</td>\n    </tr>\n    <tr>\n      <th>29</th>\n      <td>1610612764</td>\n      <td>Washington Wizards</td>\n      <td>82</td>\n      <td>43</td>\n      <td>39</td>\n      <td>0.524</td>\n      <td>3971.0</td>\n      <td>3275</td>\n      <td>7018</td>\n      <td>0.467</td>\n      <td>...</td>\n      <td>10</td>\n      <td>22</td>\n      <td>13</td>\n      <td>25</td>\n      <td>15</td>\n      <td>13</td>\n      <td>15</td>\n      <td>10</td>\n      <td>Washington Wizards</td>\n      <td>2017-18</td>\n    </tr>\n    <tr>\n      <th>29</th>\n      <td>1610612764</td>\n      <td>Washington Wizards</td>\n      <td>82</td>\n      <td>32</td>\n      <td>50</td>\n      <td>0.390</td>\n      <td>3986.0</td>\n      <td>3456</td>\n      <td>7387</td>\n      <td>0.468</td>\n      <td>...</td>\n      <td>7</td>\n      <td>23</td>\n      <td>10</td>\n      <td>13</td>\n      <td>12</td>\n      <td>10</td>\n      <td>25</td>\n      <td>10</td>\n      <td>Washington Wizards</td>\n      <td>2018-19</td>\n    </tr>\n    <tr>\n      <th>29</th>\n      <td>1610612764</td>\n      <td>Washington Wizards</td>\n      <td>72</td>\n      <td>25</td>\n      <td>47</td>\n      <td>0.347</td>\n      <td>3471.0</td>\n      <td>2990</td>\n      <td>6544</td>\n      <td>0.457</td>\n      <td>...</td>\n      <td>10</td>\n      <td>22</td>\n      <td>20</td>\n      <td>30</td>\n      <td>4</td>\n      <td>8</td>\n      <td>25</td>\n      <td>10</td>\n      <td>Washington Wizards</td>\n      <td>2019-20</td>\n    </tr>\n  </tbody>\n</table>\n<p>10 rows × 57 columns</p>\n</div>"
     },
     "metadata": {},
     "execution_count": 11
    }
   ],
   "source": [
    "team_stats[team_stats['TEAM_NAME']=='Washington Wizards']"
   ]
  },
  {
   "source": [
    "### Second data pull: all player stats by year"
   ],
   "cell_type": "markdown",
   "metadata": {}
  },
  {
   "source": [
    "The second key endpoint that will be used for this analysis is the 'leaguedashplayerstats' endpoint. This endpoint provides the same set of statistics as the 'leaguedashteamstats' endpoint, but provides these statistics at the player level rather than the team level. This will allow us to compare John Wall with other players."
   ],
   "cell_type": "markdown",
   "metadata": {}
  },
  {
   "cell_type": "code",
   "execution_count": 12,
   "metadata": {},
   "outputs": [],
   "source": [
    "from nba_api.stats.endpoints import leaguedashplayerstats"
   ]
  },
  {
   "cell_type": "code",
   "execution_count": 13,
   "metadata": {},
   "outputs": [
    {
     "output_type": "execute_result",
     "data": {
      "text/plain": [
       "array(['2010-11', '2011-12', '2012-13', '2013-14', '2014-15', '2015-16',\n",
       "       '2016-17', '2017-18', '2018-19', '2019-20'], dtype=object)"
      ]
     },
     "metadata": {},
     "execution_count": 13
    }
   ],
   "source": [
    "# We again use a for-loop to collect all seasons from 2010-2020 into a single dataframe.\n",
    "player_stats = pd.DataFrame()\n",
    "for year in years:\n",
    "    all_stats = leaguedashplayerstats.LeagueDashPlayerStats(season = year)\n",
    "    player_stats_x = all_stats.get_data_frames()[0]\n",
    "    player_stats_x['SEASON'] = year\n",
    "    player_stats = player_stats.append(player_stats_x)\n",
    "player_stats['SEASON'].unique()"
   ]
  },
  {
   "source": [
    "## Data Cleansing"
   ],
   "cell_type": "markdown",
   "metadata": {}
  },
  {
   "source": [
    "#### We will need to update the team names in both datasets. For example, the Brooklyn Nets used to be known as the New Jersey Nets until 2012, so both names are in the dataset but represent the same team. We will reference https://www.world-today-news.com/origins-and-name-changes-of-all-nba-teams/ for this information."
   ],
   "cell_type": "markdown",
   "metadata": {}
  },
  {
   "cell_type": "code",
   "execution_count": 14,
   "metadata": {},
   "outputs": [
    {
     "output_type": "execute_result",
     "data": {
      "text/plain": [
       "Index(['PLAYER_ID', 'PLAYER_NAME', 'TEAM_ID', 'TEAM_ABBREVIATION', 'AGE', 'GP',\n",
       "       'W', 'L', 'W_PCT', 'MIN', 'FGM', 'FGA', 'FG_PCT', 'FG3M', 'FG3A',\n",
       "       'FG3_PCT', 'FTM', 'FTA', 'FT_PCT', 'OREB', 'DREB', 'REB', 'AST', 'TOV',\n",
       "       'STL', 'BLK', 'BLKA', 'PF', 'PFD', 'PTS', 'PLUS_MINUS',\n",
       "       'NBA_FANTASY_PTS', 'DD2', 'TD3', 'GP_RANK', 'W_RANK', 'L_RANK',\n",
       "       'W_PCT_RANK', 'MIN_RANK', 'FGM_RANK', 'FGA_RANK', 'FG_PCT_RANK',\n",
       "       'FG3M_RANK', 'FG3A_RANK', 'FG3_PCT_RANK', 'FTM_RANK', 'FTA_RANK',\n",
       "       'FT_PCT_RANK', 'OREB_RANK', 'DREB_RANK', 'REB_RANK', 'AST_RANK',\n",
       "       'TOV_RANK', 'STL_RANK', 'BLK_RANK', 'BLKA_RANK', 'PF_RANK', 'PFD_RANK',\n",
       "       'PTS_RANK', 'PLUS_MINUS_RANK', 'NBA_FANTASY_PTS_RANK', 'DD2_RANK',\n",
       "       'TD3_RANK', 'CFID', 'CFPARAMS', 'SEASON'],\n",
       "      dtype='object')"
      ]
     },
     "metadata": {},
     "execution_count": 14
    }
   ],
   "source": [
    "player_stats.columns"
   ]
  },
  {
   "cell_type": "code",
   "execution_count": 15,
   "metadata": {},
   "outputs": [
    {
     "output_type": "execute_result",
     "data": {
      "text/plain": [
       "Index(['TEAM_ID', 'TEAM_NAME', 'GP', 'W', 'L', 'W_PCT', 'MIN', 'FGM', 'FGA',\n",
       "       'FG_PCT', 'FG3M', 'FG3A', 'FG3_PCT', 'FTM', 'FTA', 'FT_PCT', 'OREB',\n",
       "       'DREB', 'REB', 'AST', 'TOV', 'STL', 'BLK', 'BLKA', 'PF', 'PFD', 'PTS',\n",
       "       'PLUS_MINUS', 'GP_RANK', 'W_RANK', 'L_RANK', 'W_PCT_RANK', 'MIN_RANK',\n",
       "       'FGM_RANK', 'FGA_RANK', 'FG_PCT_RANK', 'FG3M_RANK', 'FG3A_RANK',\n",
       "       'FG3_PCT_RANK', 'FTM_RANK', 'FTA_RANK', 'FT_PCT_RANK', 'OREB_RANK',\n",
       "       'DREB_RANK', 'REB_RANK', 'AST_RANK', 'TOV_RANK', 'STL_RANK', 'BLK_RANK',\n",
       "       'BLKA_RANK', 'PF_RANK', 'PFD_RANK', 'PTS_RANK', 'PLUS_MINUS_RANK',\n",
       "       'CFID', 'CFPARAMS', 'SEASON'],\n",
       "      dtype='object')"
      ]
     },
     "metadata": {},
     "execution_count": 15
    }
   ],
   "source": [
    "team_stats.columns"
   ]
  },
  {
   "source": [
    "In looking at the columns for both datasets, we see that the team stats and player stats refer to the team name differently, with the team stats using the full team name, whereas the player stats uses only the team abbreviation. The four team names that need changing are the 'Charlotte Bobcats' (Charlotte Hornets), 'New Jersey Nets' (Brooklyn Nets), 'New Orleans Hornets' (New Orleans Pelicans), and 'LA Clippers' (Los Angeles Clippers). However, both the Charlotte team and the Clippers kept their abbreviation when the names changed, we only need to correct two of the abbreviations."
   ],
   "cell_type": "markdown",
   "metadata": {}
  },
  {
   "cell_type": "code",
   "execution_count": 16,
   "metadata": {},
   "outputs": [
    {
     "output_type": "execute_result",
     "data": {
      "text/plain": [
       "array(['Atlanta Hawks', 'Boston Celtics', 'Charlotte Hornets',\n",
       "       'Chicago Bulls', 'Cleveland Cavaliers', 'Dallas Mavericks',\n",
       "       'Denver Nuggets', 'Detroit Pistons', 'Golden State Warriors',\n",
       "       'Houston Rockets', 'Indiana Pacers', 'Los Angeles Clippers',\n",
       "       'Los Angeles Lakers', 'Memphis Grizzlies', 'Miami Heat',\n",
       "       'Milwaukee Bucks', 'Minnesota Timberwolves', 'Brooklyn Nets',\n",
       "       'New Orleans Pelicans', 'New York Knicks', 'Oklahoma City Thunder',\n",
       "       'Orlando Magic', 'Philadelphia 76ers', 'Phoenix Suns',\n",
       "       'Portland Trail Blazers', 'Sacramento Kings', 'San Antonio Spurs',\n",
       "       'Toronto Raptors', 'Utah Jazz', 'Washington Wizards'], dtype=object)"
      ]
     },
     "metadata": {},
     "execution_count": 16
    }
   ],
   "source": [
    "team_stats['TEAM_NAME'].loc[team_stats['TEAM_NAME']=='Charlotte Bobcats']='Charlotte Hornets'\n",
    "team_stats['TEAM_NAME'].loc[team_stats['TEAM_NAME']=='New Jersey Nets']='Brooklyn Nets'\n",
    "team_stats['TEAM_NAME'].loc[team_stats['TEAM_NAME']=='New Orleans Hornets']='New Orleans Pelicans'\n",
    "team_stats['TEAM_NAME'].loc[team_stats['TEAM_NAME']=='LA Clippers']='Los Angeles Clippers'\n",
    "team_stats['TEAM_NAME'].unique()"
   ]
  },
  {
   "cell_type": "code",
   "execution_count": 17,
   "metadata": {},
   "outputs": [
    {
     "output_type": "execute_result",
     "data": {
      "text/plain": [
       "array(['IND', 'PHX', 'NOP', 'GSW', 'DEN', 'ATL', 'UTA', 'LAC', 'TOR',\n",
       "       'CLE', 'NYK', 'WAS', 'PHI', 'POR', 'MIL', 'LAL', 'BKN', 'MIN',\n",
       "       'SAC', 'SAS', 'DET', 'BOS', 'CHA', 'HOU', 'ORL', 'DAL', 'CHI',\n",
       "       'OKC', 'MIA', 'MEM'], dtype=object)"
      ]
     },
     "metadata": {},
     "execution_count": 17
    }
   ],
   "source": [
    "player_stats['TEAM_ABBREVIATION'].loc[player_stats['TEAM_ABBREVIATION']=='NOH']='NOP'\n",
    "player_stats['TEAM_ABBREVIATION'].loc[player_stats['TEAM_ABBREVIATION']=='NJN']='BKN'\n",
    "player_stats['TEAM_ABBREVIATION'].unique()"
   ]
  },
  {
   "source": [
    "As mentioned, the next step is to create per-game statistics for any of the total stats. Percentages and rankings do not need to be updated, so we can focus on only updating the cumulative statistics, such as Wins, Points, Assists and Rebounds.\n",
    "\n",
    "These columns in the Teams dataset are: 'MIN', 'FGM', 'FGA',\n",
    "       'FG3M', 'FG3A', 'FTM', 'FTA', 'OREB', 'DREB', 'REB', 'AST', 'TOV', \n",
    "       'STL', 'BLK', 'BLKA', 'PF', 'PFD', 'PTS', 'PLUS_MINUS'.\n",
    "\n",
    "These columns in the Player dataset are: 'GP', 'MIN', \n",
    "       'FGM', 'FGA', 'FG3M', 'FG3A', 'FTM', 'FTA', 'OREB', 'DREB', 'REB', \n",
    "       'AST', 'TOV', 'STL', 'BLK', 'BLKA', 'PF', 'PFD', 'PTS', 'PLUS_MINUS'."
   ],
   "cell_type": "markdown",
   "metadata": {}
  },
  {
   "cell_type": "code",
   "execution_count": 18,
   "metadata": {},
   "outputs": [],
   "source": [
    "per_game_columns = ['W','L','MIN', 'FGM', 'FGA', 'FG3M', 'FG3A', 'FTM', 'FTA', 'OREB', 'DREB', 'REB', 'AST', 'TOV', 'STL', 'BLK', 'BLKA', 'PF', 'PFD', 'PTS', 'PLUS_MINUS']\n",
    "\n",
    "for stat in per_game_columns:\n",
    "    team_stats[stat+'_PG'] = team_stats[stat]/team_stats['GP']\n",
    "    player_stats[stat+'_PG'] = player_stats[stat]/player_stats['GP']"
   ]
  },
  {
   "cell_type": "code",
   "execution_count": 19,
   "metadata": {},
   "outputs": [
    {
     "output_type": "execute_result",
     "data": {
      "text/plain": [
       "array(['2010-11', '2011-12', '2012-13', '2013-14', '2014-15', '2015-16',\n",
       "       '2016-17', '2017-18', '2018-19', '2019-20'], dtype=object)"
      ]
     },
     "metadata": {},
     "execution_count": 19
    }
   ],
   "source": [
    "# For player stats, I'd also like to see what percentage of games they were available for.\n",
    "# A normal season is 82 games\n",
    "player_stats['GP_Perc'] = player_stats['GP']/82\n",
    "\n",
    "# In 2011-12, all teams played 66 games.\n",
    "player_stats_10 = player_stats[player_stats['SEASON']=='2010-11']\n",
    "player_stats_11 = player_stats[player_stats['SEASON']=='2011-12']\n",
    "player_stats_11['GP_Perc']=player_stats_11['GP']/66\n",
    "\n",
    "# In 2019-20, 22 of the 30 teams played 72 games. The other 8 teams played only 64 games.\n",
    "player_stats_19 = player_stats[player_stats['SEASON']=='2019-20']\n",
    "player_stats_19['GP_Perc']=player_stats_19['GP']/72\n",
    "\n",
    "player_stats_19_teams = player_stats_19[player_stats_19['TEAM_ABBREVIATION'].isin(['GSW','ATL','CLE','NYK','MIN','CHA','CHI','DET'])]\n",
    "player_stats_19_other = player_stats_19[~player_stats_19['TEAM_ABBREVIATION'].isin(['GSW','ATL','CLE','NYK','MIN','CHA','CHI','DET'])]\n",
    "\n",
    "player_stats_19_teams['GP_Perc'] = player_stats_19_teams['GP']/64\n",
    "\n",
    "# Next, combine the dataframes again. \n",
    "player_stats_mid = player_stats[~player_stats['SEASON'].isin(['2010-11','2011-12','2019-20'])]\n",
    "\n",
    "player_stats = pd.concat([player_stats_10, player_stats_11, player_stats_mid, player_stats_19_teams, player_stats_19_other], axis=0)\n",
    "\n",
    "player_stats.reset_index()\n",
    "player_stats['SEASON'].unique()"
   ]
  },
  {
   "source": [
    "Because in 2019-20, different teams played a different number of games, the rankings for 2019-20 are not completely accurate because the ranking statistics are based on total values. Therefore, we will need to also recalculate the 2019-20 rankings. To do so, we will need to calculate each team's per game rankings for any per game statistics."
   ],
   "cell_type": "markdown",
   "metadata": {}
  },
  {
   "cell_type": "code",
   "execution_count": 20,
   "metadata": {},
   "outputs": [
    {
     "output_type": "execute_result",
     "data": {
      "text/plain": [
       "       TEAM_ID           TEAM_NAME  GP   W   L  W_PCT     MIN   FGM   FGA  \\\n",
       "27  1610612761     Toronto Raptors  72  53  19  0.736  3476.0  2897  6331   \n",
       "28  1610612762           Utah Jazz  72  44  28  0.611  3471.0  2886  6130   \n",
       "29  1610612764  Washington Wizards  72  25  47  0.347  3471.0  2990  6544   \n",
       "\n",
       "    FG_PCT  ...     REB_PG     AST_PG     TOV_PG    STL_PG    BLK_PG  \\\n",
       "27   0.458  ...  45.388889  25.222222  14.819444  8.833333  4.972222   \n",
       "28   0.471  ...  44.902778  22.430556  15.125000  6.083333  4.055556   \n",
       "29   0.457  ...  42.041667  25.013889  14.166667  7.972222  4.291667   \n",
       "\n",
       "     BLKA_PG      PF_PG     PFD_PG      PTS_PG  PLUS_MINUS_PG  \n",
       "27  5.486111  21.652778  20.361111  112.750000       6.236111  \n",
       "28  4.569444  20.388889  20.847222  111.291667       2.472222  \n",
       "29  5.041667  22.694444  22.236111  114.416667      -4.666667  \n",
       "\n",
       "[3 rows x 78 columns]"
      ],
      "text/html": "<div>\n<style scoped>\n    .dataframe tbody tr th:only-of-type {\n        vertical-align: middle;\n    }\n\n    .dataframe tbody tr th {\n        vertical-align: top;\n    }\n\n    .dataframe thead th {\n        text-align: right;\n    }\n</style>\n<table border=\"1\" class=\"dataframe\">\n  <thead>\n    <tr style=\"text-align: right;\">\n      <th></th>\n      <th>TEAM_ID</th>\n      <th>TEAM_NAME</th>\n      <th>GP</th>\n      <th>W</th>\n      <th>L</th>\n      <th>W_PCT</th>\n      <th>MIN</th>\n      <th>FGM</th>\n      <th>FGA</th>\n      <th>FG_PCT</th>\n      <th>...</th>\n      <th>REB_PG</th>\n      <th>AST_PG</th>\n      <th>TOV_PG</th>\n      <th>STL_PG</th>\n      <th>BLK_PG</th>\n      <th>BLKA_PG</th>\n      <th>PF_PG</th>\n      <th>PFD_PG</th>\n      <th>PTS_PG</th>\n      <th>PLUS_MINUS_PG</th>\n    </tr>\n  </thead>\n  <tbody>\n    <tr>\n      <th>27</th>\n      <td>1610612761</td>\n      <td>Toronto Raptors</td>\n      <td>72</td>\n      <td>53</td>\n      <td>19</td>\n      <td>0.736</td>\n      <td>3476.0</td>\n      <td>2897</td>\n      <td>6331</td>\n      <td>0.458</td>\n      <td>...</td>\n      <td>45.388889</td>\n      <td>25.222222</td>\n      <td>14.819444</td>\n      <td>8.833333</td>\n      <td>4.972222</td>\n      <td>5.486111</td>\n      <td>21.652778</td>\n      <td>20.361111</td>\n      <td>112.750000</td>\n      <td>6.236111</td>\n    </tr>\n    <tr>\n      <th>28</th>\n      <td>1610612762</td>\n      <td>Utah Jazz</td>\n      <td>72</td>\n      <td>44</td>\n      <td>28</td>\n      <td>0.611</td>\n      <td>3471.0</td>\n      <td>2886</td>\n      <td>6130</td>\n      <td>0.471</td>\n      <td>...</td>\n      <td>44.902778</td>\n      <td>22.430556</td>\n      <td>15.125000</td>\n      <td>6.083333</td>\n      <td>4.055556</td>\n      <td>4.569444</td>\n      <td>20.388889</td>\n      <td>20.847222</td>\n      <td>111.291667</td>\n      <td>2.472222</td>\n    </tr>\n    <tr>\n      <th>29</th>\n      <td>1610612764</td>\n      <td>Washington Wizards</td>\n      <td>72</td>\n      <td>25</td>\n      <td>47</td>\n      <td>0.347</td>\n      <td>3471.0</td>\n      <td>2990</td>\n      <td>6544</td>\n      <td>0.457</td>\n      <td>...</td>\n      <td>42.041667</td>\n      <td>25.013889</td>\n      <td>14.166667</td>\n      <td>7.972222</td>\n      <td>4.291667</td>\n      <td>5.041667</td>\n      <td>22.694444</td>\n      <td>22.236111</td>\n      <td>114.416667</td>\n      <td>-4.666667</td>\n    </tr>\n  </tbody>\n</table>\n<p>3 rows × 78 columns</p>\n</div>"
     },
     "metadata": {},
     "execution_count": 20
    }
   ],
   "source": [
    "# Using the same per game columns list, we can calculate the rank for each team.\n",
    "\n",
    "# First, select subset of data for just 2019-20\n",
    "team_stats_latest = team_stats[team_stats['SEASON']=='2019-20']\n",
    "for stat in per_game_columns:\n",
    "    team_stats_latest[stat+'_RANK'] = team_stats_latest[stat+'_PG'].rank(ascending=False)\n",
    "\n",
    "for stat in ['L','TOV','PF']:\n",
    "    team_stats_latest[stat+'_RANK'] = team_stats_latest[stat+'_PG'].rank(ascending=True)\n",
    "\n",
    "# Next, drop 2019-20 from original dataset and append the new 2019-20 dataset\n",
    "team_stats = team_stats[team_stats['SEASON']!='2019-20']\n",
    "team_stats = team_stats.append(team_stats_latest)\n",
    "team_stats.tail(3)"
   ]
  },
  {
   "source": [
    "I tried to then pull a list of all players and their positions in order to allow further analysis at the position level. This would allow us to compare John Wall to other point guards. However, there is an API requests limitation that prevented me from pulling this data for the full list of teams, even when trying multiple calls instead of a single looped call. A future iteration of this project could look into other methods for performing this level of the analysis."
   ],
   "cell_type": "markdown",
   "metadata": {}
  },
  {
   "source": [
    "Finally, we will check to confirm that there are no duplicates and no missing values in our dataset."
   ],
   "cell_type": "markdown",
   "metadata": {}
  },
  {
   "cell_type": "code",
   "execution_count": 21,
   "metadata": {},
   "outputs": [
    {
     "output_type": "stream",
     "name": "stdout",
     "text": [
      "Player Stats:  0 0 Team Stats:  0 0\n"
     ]
    }
   ],
   "source": [
    "print('Player Stats: ',player_stats.isnull().sum().sum(), player_stats.duplicated().sum(), 'Team Stats: ',team_stats.isnull().sum().sum(), team_stats.duplicated().sum())"
   ]
  },
  {
   "source": [
    "Having cleansed the dataset and determined that there are no null values or duplicates in either of our datasets, we can now export the results to a CSV to allow us to also perform a visual analysis of the data in Tableau."
   ],
   "cell_type": "markdown",
   "metadata": {}
  },
  {
   "cell_type": "code",
   "execution_count": 41,
   "metadata": {},
   "outputs": [],
   "source": [
    "# Export to CSV\n",
    "player_stats.to_csv('all_season_stats.csv',index=False)\n",
    "team_stats.to_csv('team_stats.csv',index=False)"
   ]
  },
  {
   "source": [
    "## Exploratory Analysis"
   ],
   "cell_type": "markdown",
   "metadata": {}
  },
  {
   "source": [
    "### Averages"
   ],
   "cell_type": "markdown",
   "metadata": {}
  },
  {
   "source": [
    "First, we will explore the average rankings of the Washington Wizards for each metric. This will provide a picture of which metric has been the worst over the last ten years. We can also evaluate these metrics over time, which will initially be performed in Tableau."
   ],
   "cell_type": "markdown",
   "metadata": {}
  },
  {
   "cell_type": "code",
   "execution_count": 22,
   "metadata": {},
   "outputs": [
    {
     "output_type": "execute_result",
     "data": {
      "text/plain": [
       "W_PCT        0.499483\n",
       "PTS_PG     103.245949\n",
       "AST_PG      22.575597\n",
       "OREB_PG     10.595015\n",
       "FG3M_PG      8.783876\n",
       "dtype: float64"
      ]
     },
     "metadata": {},
     "execution_count": 22
    }
   ],
   "source": [
    "# All teams metrics\n",
    "team_stats[['W_PCT','PTS_PG','AST_PG','OREB_PG','FG3M_PG']].mean()"
   ]
  },
  {
   "cell_type": "code",
   "execution_count": 23,
   "metadata": {},
   "outputs": [
    {
     "output_type": "execute_result",
     "data": {
      "text/plain": [
       "W_PCT        0.439400\n",
       "PTS_PG     103.163840\n",
       "AST_PG      23.224486\n",
       "OREB_PG     10.545787\n",
       "FG3M_PG      8.172432\n",
       "dtype: float64"
      ]
     },
     "metadata": {},
     "execution_count": 23
    }
   ],
   "source": [
    "# Wizards only\n",
    "wiz_stats = team_stats[team_stats['TEAM_NAME']=='Washington Wizards']\n",
    "wiz_stats[['W_PCT','PTS_PG','AST_PG','OREB_PG','FG3M_PG']].mean()"
   ]
  },
  {
   "source": [
    "From this comparison, we can see that from the full population, the Wizards are right around the average for nearly all metrics, falling slightly below in all cases except for the assists average. Perhaps an annual comparison will show more detail into this."
   ],
   "cell_type": "markdown",
   "metadata": {}
  },
  {
   "cell_type": "code",
   "execution_count": 24,
   "metadata": {},
   "outputs": [
    {
     "output_type": "stream",
     "name": "stdout",
     "text": [
      "Wizards:  \n     W_PCT      PTS_PG     AST_PG    OREB_PG    FG3M_PG\n29  0.280   97.280488  19.414634  12.353659   4.780488\n29  0.303   93.636364  19.121212  11.742424   5.212121\n29  0.354   93.219512  21.646341  10.817073   6.646341\n29  0.537  100.658537  23.280488  10.804878   7.890244\n29  0.561   98.536585  24.012195  10.512195   6.060976\n29  0.500  104.073171  24.451220   9.060976   8.646341\n29  0.598  109.182927  23.853659  10.280488   9.219512\n29  0.524  106.609756  25.182927  10.036585   9.926829\n29  0.390  114.024390  26.268293   9.682927  11.341463\n29  0.347  114.416667  25.013889  10.166667  12.000000 \n All Teams:  \n             W_PCT      PTS_PG     AST_PG    OREB_PG    FG3M_PG\nSEASON                                                        \n2010-11  0.500000   99.550407  21.498780  10.912195   6.457724\n2011-12  0.499900   96.259596  20.976263  11.369697   6.410606\n2012-13  0.500100   98.135878  22.137423  11.169492   7.160976\n2013-14  0.500033  101.008943  22.004472  10.913008   7.745528\n2014-15  0.500033  100.014228  22.033333  10.886585   7.845528\n2015-16  0.499900  102.671545  22.289024  10.416260   8.517480\n2016-17  0.499967  105.590650  22.626016  10.136585   9.653659\n2017-18  0.500000  106.333333  23.236992   9.711382  10.490650\n2018-19  0.499967  111.208537  24.586585  10.347154  11.363821\n2019-20  0.494933  111.686372  24.367077  10.087791  12.192789\n"
     ]
    }
   ],
   "source": [
    "print('Wizards: ', '\\n', wiz_stats[['W_PCT','PTS_PG','AST_PG','OREB_PG','FG3M_PG']],'\\n',  'All Teams: ', '\\n', team_stats[['W_PCT','PTS_PG','AST_PG','OREB_PG','FG3M_PG']].groupby(team_stats['SEASON']).mean())"
   ]
  },
  {
   "source": [
    "Interestingly, the Wizards have actually been significantly above the points per game average of the league in the past two seasons without John Wall, though their winning percentage has been very low. In contrast, the teams' assists have also been above average, with their offensive rebounding in 2018-19 being the most significantly below-average statistic since John Wall's injury."
   ],
   "cell_type": "markdown",
   "metadata": {}
  },
  {
   "cell_type": "code",
   "execution_count": 25,
   "metadata": {},
   "outputs": [
    {
     "output_type": "execute_result",
     "data": {
      "text/plain": [
       "           W_PCT      PTS_PG     AST_PG    OREB_PG    FG3M_PG\n",
       "count  10.000000   10.000000  10.000000  10.000000  10.000000\n",
       "mean    0.439400  103.163840  23.224486  10.545787   8.172432\n",
       "std     0.116705    7.785118   2.419112   0.958285   2.499499\n",
       "min     0.280000   93.219512  19.121212   9.060976   4.780488\n",
       "25%     0.348750   97.594512  22.054878  10.069106   6.207317\n",
       "50%     0.445000  102.365854  23.932927  10.396341   8.268293\n",
       "75%     0.533750  108.539634  24.873222  10.814024   9.750000\n",
       "max     0.598000  114.416667  26.268293  12.353659  12.000000"
      ],
      "text/html": "<div>\n<style scoped>\n    .dataframe tbody tr th:only-of-type {\n        vertical-align: middle;\n    }\n\n    .dataframe tbody tr th {\n        vertical-align: top;\n    }\n\n    .dataframe thead th {\n        text-align: right;\n    }\n</style>\n<table border=\"1\" class=\"dataframe\">\n  <thead>\n    <tr style=\"text-align: right;\">\n      <th></th>\n      <th>W_PCT</th>\n      <th>PTS_PG</th>\n      <th>AST_PG</th>\n      <th>OREB_PG</th>\n      <th>FG3M_PG</th>\n    </tr>\n  </thead>\n  <tbody>\n    <tr>\n      <th>count</th>\n      <td>10.000000</td>\n      <td>10.000000</td>\n      <td>10.000000</td>\n      <td>10.000000</td>\n      <td>10.000000</td>\n    </tr>\n    <tr>\n      <th>mean</th>\n      <td>0.439400</td>\n      <td>103.163840</td>\n      <td>23.224486</td>\n      <td>10.545787</td>\n      <td>8.172432</td>\n    </tr>\n    <tr>\n      <th>std</th>\n      <td>0.116705</td>\n      <td>7.785118</td>\n      <td>2.419112</td>\n      <td>0.958285</td>\n      <td>2.499499</td>\n    </tr>\n    <tr>\n      <th>min</th>\n      <td>0.280000</td>\n      <td>93.219512</td>\n      <td>19.121212</td>\n      <td>9.060976</td>\n      <td>4.780488</td>\n    </tr>\n    <tr>\n      <th>25%</th>\n      <td>0.348750</td>\n      <td>97.594512</td>\n      <td>22.054878</td>\n      <td>10.069106</td>\n      <td>6.207317</td>\n    </tr>\n    <tr>\n      <th>50%</th>\n      <td>0.445000</td>\n      <td>102.365854</td>\n      <td>23.932927</td>\n      <td>10.396341</td>\n      <td>8.268293</td>\n    </tr>\n    <tr>\n      <th>75%</th>\n      <td>0.533750</td>\n      <td>108.539634</td>\n      <td>24.873222</td>\n      <td>10.814024</td>\n      <td>9.750000</td>\n    </tr>\n    <tr>\n      <th>max</th>\n      <td>0.598000</td>\n      <td>114.416667</td>\n      <td>26.268293</td>\n      <td>12.353659</td>\n      <td>12.000000</td>\n    </tr>\n  </tbody>\n</table>\n</div>"
     },
     "metadata": {},
     "execution_count": 25
    }
   ],
   "source": [
    "wiz_stats[['W_PCT','PTS_PG','AST_PG','OREB_PG','FG3M_PG']].describe()"
   ]
  },
  {
   "source": [
    "In addition to the statistical averages and distribution, we can look to the rankings for the Wizards to see how their rank has changed over time. In the full set of the population, the Wizards have actually been within the top 13 in assists, but they are between 16th and 19th in wins, points, offensive rebounds, and 3-point field goals made. This begins to suggest that the Wizards may be worse at shooting 3-point field goals and rebounding than they are at making assists. While these overall statistics include John Wall's contribution to the team, our previous year-by-year analysis showed that even in 2019-20, when John Wall did not play a single game, the team made more assists than the league on average."
   ],
   "cell_type": "markdown",
   "metadata": {}
  },
  {
   "cell_type": "code",
   "execution_count": 26,
   "metadata": {},
   "outputs": [
    {
     "output_type": "execute_result",
     "data": {
      "text/plain": [
       "          W_RANK   PTS_RANK   AST_RANK  OREB_RANK  FG3M_RANK\n",
       "count  10.000000  10.000000  10.000000  10.000000  10.000000\n",
       "mean   19.600000  14.800000  12.200000  16.700000  19.500000\n",
       "std     6.752777   7.360556   9.425733   6.766749   5.441609\n",
       "min     9.000000   5.000000   4.000000   3.000000  13.000000\n",
       "25%    14.750000   9.250000   6.000000  13.000000  16.000000\n",
       "50%    20.000000  14.500000   7.000000  18.000000  17.500000\n",
       "75%    24.500000  20.000000  17.250000  20.500000  24.000000\n",
       "max    29.000000  28.000000  29.000000  27.000000  28.000000"
      ],
      "text/html": "<div>\n<style scoped>\n    .dataframe tbody tr th:only-of-type {\n        vertical-align: middle;\n    }\n\n    .dataframe tbody tr th {\n        vertical-align: top;\n    }\n\n    .dataframe thead th {\n        text-align: right;\n    }\n</style>\n<table border=\"1\" class=\"dataframe\">\n  <thead>\n    <tr style=\"text-align: right;\">\n      <th></th>\n      <th>W_RANK</th>\n      <th>PTS_RANK</th>\n      <th>AST_RANK</th>\n      <th>OREB_RANK</th>\n      <th>FG3M_RANK</th>\n    </tr>\n  </thead>\n  <tbody>\n    <tr>\n      <th>count</th>\n      <td>10.000000</td>\n      <td>10.000000</td>\n      <td>10.000000</td>\n      <td>10.000000</td>\n      <td>10.000000</td>\n    </tr>\n    <tr>\n      <th>mean</th>\n      <td>19.600000</td>\n      <td>14.800000</td>\n      <td>12.200000</td>\n      <td>16.700000</td>\n      <td>19.500000</td>\n    </tr>\n    <tr>\n      <th>std</th>\n      <td>6.752777</td>\n      <td>7.360556</td>\n      <td>9.425733</td>\n      <td>6.766749</td>\n      <td>5.441609</td>\n    </tr>\n    <tr>\n      <th>min</th>\n      <td>9.000000</td>\n      <td>5.000000</td>\n      <td>4.000000</td>\n      <td>3.000000</td>\n      <td>13.000000</td>\n    </tr>\n    <tr>\n      <th>25%</th>\n      <td>14.750000</td>\n      <td>9.250000</td>\n      <td>6.000000</td>\n      <td>13.000000</td>\n      <td>16.000000</td>\n    </tr>\n    <tr>\n      <th>50%</th>\n      <td>20.000000</td>\n      <td>14.500000</td>\n      <td>7.000000</td>\n      <td>18.000000</td>\n      <td>17.500000</td>\n    </tr>\n    <tr>\n      <th>75%</th>\n      <td>24.500000</td>\n      <td>20.000000</td>\n      <td>17.250000</td>\n      <td>20.500000</td>\n      <td>24.000000</td>\n    </tr>\n    <tr>\n      <th>max</th>\n      <td>29.000000</td>\n      <td>28.000000</td>\n      <td>29.000000</td>\n      <td>27.000000</td>\n      <td>28.000000</td>\n    </tr>\n  </tbody>\n</table>\n</div>"
     },
     "metadata": {},
     "execution_count": 26
    }
   ],
   "source": [
    "wiz_stats[['W_RANK','PTS_RANK','AST_RANK','OREB_RANK','FG3M_RANK']].describe()"
   ]
  },
  {
   "source": [
    "### Data Visualization"
   ],
   "cell_type": "markdown",
   "metadata": {}
  },
  {
   "source": [
    "This project then conducted additional graphical analyses to assess the trends in the dataset through visual representations. Using the following Tableau dashboard, we see several key points. Please see the attached Tableau dashboard, with the Story board demonstrating some of these main visualizations.\n",
    "\n",
    "In this dashboard, we can see that the Wizards tend to perform worse on offensive rebounding and 3-point shooting than other offensive statistics. However, we can also see in the third slide of the dashboard that the Wizards' assists total dropped significantly without John Wall in the team. Whenever John Wall makes at least 8.5 assists per game, the team falls within the top 8 for assists. In contrast, in the 2019-20 season, the Wizards fell to 12th in assists rank.\n",
    "\n",
    "We also notice that since 2016-17, the season Marcin Gortat left the Washington Wizards, the Wizards have not had a dominant offensive rebounder. The chart depicting individual players' statistic shows most teams having at least one high outlier for offensive rebounding, but the Wizards do not have a player that has a high output of offensive rebounding. In contrast, between Bradley Beal and John Wall, the Wizards have always had at least one high performer for points scored and assists."
   ],
   "cell_type": "markdown",
   "metadata": {}
  },
  {
   "source": [
    "## Modeling and Algorithms"
   ],
   "cell_type": "markdown",
   "metadata": {}
  },
  {
   "source": [
    "### Correlation Analysis"
   ],
   "cell_type": "markdown",
   "metadata": {}
  },
  {
   "source": [
    "We can also evaluate John Wall's average ranking for each metric; however, we can easily see that in his most recent couple of seasons, he did not play many games, which distorts these ranks. Because of this, we can instead compare his Per Game statistics to the distribution of the Per Game statistics for the league. "
   ],
   "cell_type": "markdown",
   "metadata": {}
  },
  {
   "cell_type": "code",
   "execution_count": 27,
   "metadata": {},
   "outputs": [
    {
     "output_type": "execute_result",
     "data": {
      "text/plain": [
       "232    69\n",
       "247    66\n",
       "237    49\n",
       "237    82\n",
       "245    79\n",
       "226    77\n",
       "231    78\n",
       "257    41\n",
       "263    32\n",
       "Name: GP, dtype: int64"
      ]
     },
     "metadata": {},
     "execution_count": 27
    }
   ],
   "source": [
    "# John Wall metrics\n",
    "wall_stats = player_stats[player_stats['PLAYER_NAME']=='John Wall']\n",
    "wall_stats['GP']"
   ]
  },
  {
   "cell_type": "code",
   "execution_count": 28,
   "metadata": {},
   "outputs": [
    {
     "output_type": "execute_result",
     "data": {
      "text/plain": [
       "         W_PCT     PTS_PG     AST_PG   OREB_PG   FG3M_PG\n",
       "count  9.00000   9.000000   9.000000  9.000000  9.000000\n",
       "mean   0.46400  19.025321   9.109345  0.575013  0.962605\n",
       "std    0.12539   2.167476   1.062318  0.122684  0.584841\n",
       "min    0.27500  16.303030   7.612245  0.455696  0.045455\n",
       "25%    0.34400  17.556962   8.318841  0.468750  0.492754\n",
       "50%    0.49000  19.304878   8.792683  0.536585  1.141026\n",
       "75%    0.56100  19.883117  10.025316  0.714286  1.493506\n",
       "max    0.61500  23.141026  10.653846  0.756410  1.593750"
      ],
      "text/html": "<div>\n<style scoped>\n    .dataframe tbody tr th:only-of-type {\n        vertical-align: middle;\n    }\n\n    .dataframe tbody tr th {\n        vertical-align: top;\n    }\n\n    .dataframe thead th {\n        text-align: right;\n    }\n</style>\n<table border=\"1\" class=\"dataframe\">\n  <thead>\n    <tr style=\"text-align: right;\">\n      <th></th>\n      <th>W_PCT</th>\n      <th>PTS_PG</th>\n      <th>AST_PG</th>\n      <th>OREB_PG</th>\n      <th>FG3M_PG</th>\n    </tr>\n  </thead>\n  <tbody>\n    <tr>\n      <th>count</th>\n      <td>9.00000</td>\n      <td>9.000000</td>\n      <td>9.000000</td>\n      <td>9.000000</td>\n      <td>9.000000</td>\n    </tr>\n    <tr>\n      <th>mean</th>\n      <td>0.46400</td>\n      <td>19.025321</td>\n      <td>9.109345</td>\n      <td>0.575013</td>\n      <td>0.962605</td>\n    </tr>\n    <tr>\n      <th>std</th>\n      <td>0.12539</td>\n      <td>2.167476</td>\n      <td>1.062318</td>\n      <td>0.122684</td>\n      <td>0.584841</td>\n    </tr>\n    <tr>\n      <th>min</th>\n      <td>0.27500</td>\n      <td>16.303030</td>\n      <td>7.612245</td>\n      <td>0.455696</td>\n      <td>0.045455</td>\n    </tr>\n    <tr>\n      <th>25%</th>\n      <td>0.34400</td>\n      <td>17.556962</td>\n      <td>8.318841</td>\n      <td>0.468750</td>\n      <td>0.492754</td>\n    </tr>\n    <tr>\n      <th>50%</th>\n      <td>0.49000</td>\n      <td>19.304878</td>\n      <td>8.792683</td>\n      <td>0.536585</td>\n      <td>1.141026</td>\n    </tr>\n    <tr>\n      <th>75%</th>\n      <td>0.56100</td>\n      <td>19.883117</td>\n      <td>10.025316</td>\n      <td>0.714286</td>\n      <td>1.493506</td>\n    </tr>\n    <tr>\n      <th>max</th>\n      <td>0.61500</td>\n      <td>23.141026</td>\n      <td>10.653846</td>\n      <td>0.756410</td>\n      <td>1.593750</td>\n    </tr>\n  </tbody>\n</table>\n</div>"
     },
     "metadata": {},
     "execution_count": 28
    }
   ],
   "source": [
    "wall_stats[['W_PCT','PTS_PG','AST_PG','OREB_PG','FG3M_PG']].describe()"
   ]
  },
  {
   "cell_type": "code",
   "execution_count": 29,
   "metadata": {},
   "outputs": [
    {
     "output_type": "execute_result",
     "data": {
      "text/plain": [
       "W_RANK       201.333333\n",
       "PTS_RANK      59.666667\n",
       "AST_RANK      14.555556\n",
       "OREB_RANK    231.333333\n",
       "FG3M_RANK    154.000000\n",
       "dtype: float64"
      ]
     },
     "metadata": {},
     "execution_count": 29
    }
   ],
   "source": [
    "wall_stats[['W_RANK','PTS_RANK','AST_RANK','OREB_RANK','FG3M_RANK']].mean()"
   ]
  },
  {
   "source": [
    "We see that John Wall's win percentage of 46.4% is higher than the team's average of 43.9% and is significantly higher than the team's 34.7% win percentage in 2019-20 (a decrease from their 39% win percentage in 2018-19). We can also see that in the last 10 years, even without playing last season, John Wall is 15 in assists since his debut. He also falls in the top 60 for points per game. "
   ],
   "cell_type": "markdown",
   "metadata": {}
  },
  {
   "cell_type": "code",
   "execution_count": 30,
   "metadata": {},
   "outputs": [
    {
     "output_type": "execute_result",
     "data": {
      "text/plain": [
       "         W_RANK  PTS_RANK  AST_RANK  OREB_RANK  FG3M_RANK\n",
       "SEASON                                                   \n",
       "2010-11     290        53        10        248        164\n",
       "2011-12     251        28         4        159        271\n",
       "2012-13     258        91        30        234        244\n",
       "2013-14      93        15         1        219         57\n",
       "2014-15      75        19         2        227        125\n",
       "2015-16     139        18         3        204         50\n",
       "2016-17      47        18         3        145        107\n",
       "2017-18     265       129        20        289        161\n",
       "2018-19     394       166        58        357        207"
      ],
      "text/html": "<div>\n<style scoped>\n    .dataframe tbody tr th:only-of-type {\n        vertical-align: middle;\n    }\n\n    .dataframe tbody tr th {\n        vertical-align: top;\n    }\n\n    .dataframe thead th {\n        text-align: right;\n    }\n</style>\n<table border=\"1\" class=\"dataframe\">\n  <thead>\n    <tr style=\"text-align: right;\">\n      <th></th>\n      <th>W_RANK</th>\n      <th>PTS_RANK</th>\n      <th>AST_RANK</th>\n      <th>OREB_RANK</th>\n      <th>FG3M_RANK</th>\n    </tr>\n    <tr>\n      <th>SEASON</th>\n      <th></th>\n      <th></th>\n      <th></th>\n      <th></th>\n      <th></th>\n    </tr>\n  </thead>\n  <tbody>\n    <tr>\n      <th>2010-11</th>\n      <td>290</td>\n      <td>53</td>\n      <td>10</td>\n      <td>248</td>\n      <td>164</td>\n    </tr>\n    <tr>\n      <th>2011-12</th>\n      <td>251</td>\n      <td>28</td>\n      <td>4</td>\n      <td>159</td>\n      <td>271</td>\n    </tr>\n    <tr>\n      <th>2012-13</th>\n      <td>258</td>\n      <td>91</td>\n      <td>30</td>\n      <td>234</td>\n      <td>244</td>\n    </tr>\n    <tr>\n      <th>2013-14</th>\n      <td>93</td>\n      <td>15</td>\n      <td>1</td>\n      <td>219</td>\n      <td>57</td>\n    </tr>\n    <tr>\n      <th>2014-15</th>\n      <td>75</td>\n      <td>19</td>\n      <td>2</td>\n      <td>227</td>\n      <td>125</td>\n    </tr>\n    <tr>\n      <th>2015-16</th>\n      <td>139</td>\n      <td>18</td>\n      <td>3</td>\n      <td>204</td>\n      <td>50</td>\n    </tr>\n    <tr>\n      <th>2016-17</th>\n      <td>47</td>\n      <td>18</td>\n      <td>3</td>\n      <td>145</td>\n      <td>107</td>\n    </tr>\n    <tr>\n      <th>2017-18</th>\n      <td>265</td>\n      <td>129</td>\n      <td>20</td>\n      <td>289</td>\n      <td>161</td>\n    </tr>\n    <tr>\n      <th>2018-19</th>\n      <td>394</td>\n      <td>166</td>\n      <td>58</td>\n      <td>357</td>\n      <td>207</td>\n    </tr>\n  </tbody>\n</table>\n</div>"
     },
     "metadata": {},
     "execution_count": 30
    }
   ],
   "source": [
    "wall_stats[['W_RANK','PTS_RANK','AST_RANK','OREB_RANK','FG3M_RANK']].groupby(wall_stats['SEASON']).mean()"
   ]
  },
  {
   "source": [
    "Grouped by year, as in the above analysis, we see even stronger evidence of John Wall's prowess as both a scorer and assist maker. Despite only playing 41 games (or 50% of the season), John Wall was still 20th in assists in 2017-18. He also finished top three in four consecutive seasons from 2013-2017 and finished top 20 in scoring in each of those seasons. In two of those seasons he also finished in the top 60 in 3-pointers made."
   ],
   "cell_type": "markdown",
   "metadata": {}
  },
  {
   "cell_type": "code",
   "execution_count": 31,
   "metadata": {},
   "outputs": [
    {
     "output_type": "execute_result",
     "data": {
      "text/plain": [
       "             W_PCT       PTS_PG       AST_PG      OREB_PG      FG3M_PG\n",
       "count  4934.000000  4934.000000  4934.000000  4934.000000  4934.000000\n",
       "mean      0.487411     8.265268     1.824629     0.878578     0.706274\n",
       "std       0.185745     5.842187     1.774729     0.799016     0.737832\n",
       "min       0.000000     0.000000     0.000000     0.000000     0.000000\n",
       "25%       0.359000     3.800000     0.622327     0.321429     0.032923\n",
       "50%       0.500000     6.870266     1.226541     0.629883     0.500000\n",
       "75%       0.614000    11.559694     2.394781     1.187500     1.136831\n",
       "max       1.000000    36.128205    11.698113     5.520000     5.130435"
      ],
      "text/html": "<div>\n<style scoped>\n    .dataframe tbody tr th:only-of-type {\n        vertical-align: middle;\n    }\n\n    .dataframe tbody tr th {\n        vertical-align: top;\n    }\n\n    .dataframe thead th {\n        text-align: right;\n    }\n</style>\n<table border=\"1\" class=\"dataframe\">\n  <thead>\n    <tr style=\"text-align: right;\">\n      <th></th>\n      <th>W_PCT</th>\n      <th>PTS_PG</th>\n      <th>AST_PG</th>\n      <th>OREB_PG</th>\n      <th>FG3M_PG</th>\n    </tr>\n  </thead>\n  <tbody>\n    <tr>\n      <th>count</th>\n      <td>4934.000000</td>\n      <td>4934.000000</td>\n      <td>4934.000000</td>\n      <td>4934.000000</td>\n      <td>4934.000000</td>\n    </tr>\n    <tr>\n      <th>mean</th>\n      <td>0.487411</td>\n      <td>8.265268</td>\n      <td>1.824629</td>\n      <td>0.878578</td>\n      <td>0.706274</td>\n    </tr>\n    <tr>\n      <th>std</th>\n      <td>0.185745</td>\n      <td>5.842187</td>\n      <td>1.774729</td>\n      <td>0.799016</td>\n      <td>0.737832</td>\n    </tr>\n    <tr>\n      <th>min</th>\n      <td>0.000000</td>\n      <td>0.000000</td>\n      <td>0.000000</td>\n      <td>0.000000</td>\n      <td>0.000000</td>\n    </tr>\n    <tr>\n      <th>25%</th>\n      <td>0.359000</td>\n      <td>3.800000</td>\n      <td>0.622327</td>\n      <td>0.321429</td>\n      <td>0.032923</td>\n    </tr>\n    <tr>\n      <th>50%</th>\n      <td>0.500000</td>\n      <td>6.870266</td>\n      <td>1.226541</td>\n      <td>0.629883</td>\n      <td>0.500000</td>\n    </tr>\n    <tr>\n      <th>75%</th>\n      <td>0.614000</td>\n      <td>11.559694</td>\n      <td>2.394781</td>\n      <td>1.187500</td>\n      <td>1.136831</td>\n    </tr>\n    <tr>\n      <th>max</th>\n      <td>1.000000</td>\n      <td>36.128205</td>\n      <td>11.698113</td>\n      <td>5.520000</td>\n      <td>5.130435</td>\n    </tr>\n  </tbody>\n</table>\n</div>"
     },
     "metadata": {},
     "execution_count": 31
    }
   ],
   "source": [
    "# All NBA players\n",
    "player_stats[['W_PCT','PTS_PG','AST_PG','OREB_PG','FG3M_PG']].describe()"
   ]
  },
  {
   "source": [
    "Finally, we can evaluate the impact John Wall has on the Wizards' ranks and winning percentages. To do this, we will see if there is any correlation between the number of games John Wall plays and these metrics. Additionally, we will see if there is any correlation between John Wall's per game statistics and these metrics, to see if perhaps it is not a matter of just John Wall playing but that he has to perform at a certain level to have a positive impact on the Wizards' offensive output."
   ],
   "cell_type": "markdown",
   "metadata": {}
  },
  {
   "cell_type": "code",
   "execution_count": 50,
   "metadata": {},
   "outputs": [],
   "source": [
    "# John Wall's impact\n",
    "wiz_stats_wall = pd.merge(wiz_stats,wall_stats,how='left',on=['SEASON'])\n",
    "wiz_stats_wall = wiz_stats_wall.fillna(0)"
   ]
  },
  {
   "cell_type": "code",
   "execution_count": 51,
   "metadata": {},
   "outputs": [
    {
     "output_type": "execute_result",
     "data": {
      "text/plain": [
       "            W_PCT_x  PTS_PG_x  FG_PCT_x  AST_PG_x  OREB_PG_x  FG3M_PG_x  \\\n",
       "W_PCT_x    1.000000  0.245124  0.764962  0.561654  -0.547267   0.237488   \n",
       "PTS_PG_x   0.245124  1.000000  0.758724  0.815712  -0.648877   0.936908   \n",
       "FG_PCT_x   0.764962  0.758724  1.000000  0.798651  -0.659639   0.650244   \n",
       "AST_PG_x   0.561654  0.815712  0.798651  1.000000  -0.888062   0.863119   \n",
       "OREB_PG_x -0.547267 -0.648877 -0.659639 -0.888062   1.000000  -0.749227   \n",
       "FG3M_PG_x  0.237488  0.936908  0.650244  0.863119  -0.749227   1.000000   \n",
       "GP_Perc    0.350155 -0.628429 -0.069110 -0.479578   0.298819  -0.723688   \n",
       "\n",
       "            GP_Perc  \n",
       "W_PCT_x    0.350155  \n",
       "PTS_PG_x  -0.628429  \n",
       "FG_PCT_x  -0.069110  \n",
       "AST_PG_x  -0.479578  \n",
       "OREB_PG_x  0.298819  \n",
       "FG3M_PG_x -0.723688  \n",
       "GP_Perc    1.000000  "
      ],
      "text/html": "<div>\n<style scoped>\n    .dataframe tbody tr th:only-of-type {\n        vertical-align: middle;\n    }\n\n    .dataframe tbody tr th {\n        vertical-align: top;\n    }\n\n    .dataframe thead th {\n        text-align: right;\n    }\n</style>\n<table border=\"1\" class=\"dataframe\">\n  <thead>\n    <tr style=\"text-align: right;\">\n      <th></th>\n      <th>W_PCT_x</th>\n      <th>PTS_PG_x</th>\n      <th>FG_PCT_x</th>\n      <th>AST_PG_x</th>\n      <th>OREB_PG_x</th>\n      <th>FG3M_PG_x</th>\n      <th>GP_Perc</th>\n    </tr>\n  </thead>\n  <tbody>\n    <tr>\n      <th>W_PCT_x</th>\n      <td>1.000000</td>\n      <td>0.245124</td>\n      <td>0.764962</td>\n      <td>0.561654</td>\n      <td>-0.547267</td>\n      <td>0.237488</td>\n      <td>0.350155</td>\n    </tr>\n    <tr>\n      <th>PTS_PG_x</th>\n      <td>0.245124</td>\n      <td>1.000000</td>\n      <td>0.758724</td>\n      <td>0.815712</td>\n      <td>-0.648877</td>\n      <td>0.936908</td>\n      <td>-0.628429</td>\n    </tr>\n    <tr>\n      <th>FG_PCT_x</th>\n      <td>0.764962</td>\n      <td>0.758724</td>\n      <td>1.000000</td>\n      <td>0.798651</td>\n      <td>-0.659639</td>\n      <td>0.650244</td>\n      <td>-0.069110</td>\n    </tr>\n    <tr>\n      <th>AST_PG_x</th>\n      <td>0.561654</td>\n      <td>0.815712</td>\n      <td>0.798651</td>\n      <td>1.000000</td>\n      <td>-0.888062</td>\n      <td>0.863119</td>\n      <td>-0.479578</td>\n    </tr>\n    <tr>\n      <th>OREB_PG_x</th>\n      <td>-0.547267</td>\n      <td>-0.648877</td>\n      <td>-0.659639</td>\n      <td>-0.888062</td>\n      <td>1.000000</td>\n      <td>-0.749227</td>\n      <td>0.298819</td>\n    </tr>\n    <tr>\n      <th>FG3M_PG_x</th>\n      <td>0.237488</td>\n      <td>0.936908</td>\n      <td>0.650244</td>\n      <td>0.863119</td>\n      <td>-0.749227</td>\n      <td>1.000000</td>\n      <td>-0.723688</td>\n    </tr>\n    <tr>\n      <th>GP_Perc</th>\n      <td>0.350155</td>\n      <td>-0.628429</td>\n      <td>-0.069110</td>\n      <td>-0.479578</td>\n      <td>0.298819</td>\n      <td>-0.723688</td>\n      <td>1.000000</td>\n    </tr>\n  </tbody>\n</table>\n</div>"
     },
     "metadata": {},
     "execution_count": 51
    }
   ],
   "source": [
    "wiz_stats_wall[['W_PCT_x','PTS_PG_x','FG_PCT_x','AST_PG_x','OREB_PG_x','FG3M_PG_x','GP_Perc']].corr(method='pearson')"
   ]
  },
  {
   "source": [
    "From the above correlation matrix, it does not appear that John Wall's games played has a significant correlation with many of the metrics. The strongest correlation is a negative correlation of -0.72 between the % of games played by John Wall and the 3-pointers made per game by the Wizards. However, this is likely due to the fact that John Wall has played gradually fewer games, with the past three seasons his fewest, while the NBA's trend of scoring more 3-pointers year-over-year has continued each year. Also, John Wall is not known to be a strong 3-point scorer, at least compared to his scoring and assists as we saw in his ranking statistics. Interestingly, both points per game and assists per game has a moderate negative relationship with the number of games played by John Wall. \n",
    "\n",
    "It will be interesting to look further into the assists per game to see if the number of assists John Wall has per game has a correlation with the team's wins, points scored, field goals scored, or team assist totals."
   ],
   "cell_type": "markdown",
   "metadata": {}
  },
  {
   "cell_type": "code",
   "execution_count": 52,
   "metadata": {},
   "outputs": [
    {
     "output_type": "execute_result",
     "data": {
      "text/plain": [
       "            W_PCT_x  PTS_PG_x  FGM_PG_x  FG3M_PG_x  AST_PG_x  AST_PG_y\n",
       "W_PCT_x    1.000000  0.245124  0.382545   0.237488  0.561654  0.529661\n",
       "PTS_PG_x   0.245124  1.000000  0.977920   0.936908  0.815712 -0.320110\n",
       "FGM_PG_x   0.382545  0.977920  1.000000   0.881600  0.820183 -0.168321\n",
       "FG3M_PG_x  0.237488  0.936908  0.881600   1.000000  0.863119 -0.390597\n",
       "AST_PG_x   0.561654  0.815712  0.820183   0.863119  1.000000 -0.055484\n",
       "AST_PG_y   0.529661 -0.320110 -0.168321  -0.390597 -0.055484  1.000000"
      ],
      "text/html": "<div>\n<style scoped>\n    .dataframe tbody tr th:only-of-type {\n        vertical-align: middle;\n    }\n\n    .dataframe tbody tr th {\n        vertical-align: top;\n    }\n\n    .dataframe thead th {\n        text-align: right;\n    }\n</style>\n<table border=\"1\" class=\"dataframe\">\n  <thead>\n    <tr style=\"text-align: right;\">\n      <th></th>\n      <th>W_PCT_x</th>\n      <th>PTS_PG_x</th>\n      <th>FGM_PG_x</th>\n      <th>FG3M_PG_x</th>\n      <th>AST_PG_x</th>\n      <th>AST_PG_y</th>\n    </tr>\n  </thead>\n  <tbody>\n    <tr>\n      <th>W_PCT_x</th>\n      <td>1.000000</td>\n      <td>0.245124</td>\n      <td>0.382545</td>\n      <td>0.237488</td>\n      <td>0.561654</td>\n      <td>0.529661</td>\n    </tr>\n    <tr>\n      <th>PTS_PG_x</th>\n      <td>0.245124</td>\n      <td>1.000000</td>\n      <td>0.977920</td>\n      <td>0.936908</td>\n      <td>0.815712</td>\n      <td>-0.320110</td>\n    </tr>\n    <tr>\n      <th>FGM_PG_x</th>\n      <td>0.382545</td>\n      <td>0.977920</td>\n      <td>1.000000</td>\n      <td>0.881600</td>\n      <td>0.820183</td>\n      <td>-0.168321</td>\n    </tr>\n    <tr>\n      <th>FG3M_PG_x</th>\n      <td>0.237488</td>\n      <td>0.936908</td>\n      <td>0.881600</td>\n      <td>1.000000</td>\n      <td>0.863119</td>\n      <td>-0.390597</td>\n    </tr>\n    <tr>\n      <th>AST_PG_x</th>\n      <td>0.561654</td>\n      <td>0.815712</td>\n      <td>0.820183</td>\n      <td>0.863119</td>\n      <td>1.000000</td>\n      <td>-0.055484</td>\n    </tr>\n    <tr>\n      <th>AST_PG_y</th>\n      <td>0.529661</td>\n      <td>-0.320110</td>\n      <td>-0.168321</td>\n      <td>-0.390597</td>\n      <td>-0.055484</td>\n      <td>1.000000</td>\n    </tr>\n  </tbody>\n</table>\n</div>"
     },
     "metadata": {},
     "execution_count": 52
    }
   ],
   "source": [
    "wiz_stats_wall[['W_PCT_x','PTS_PG_x','FGM_PG_x','FG3M_PG_x','AST_PG_x','AST_PG_y']].corr(method='pearson')"
   ]
  },
  {
   "source": [
    "It actually appears that John Wall's assists per game has a moderate relationship with the team's win percentage, which is a positive sign for his return. We also see that Wall's assists per game has almost 0 correlation to the team's total assists per game, which is an interesting finding, but must be due in part to other players filling in and providing assists for teammates when he is not playing."
   ],
   "cell_type": "markdown",
   "metadata": {}
  }
 ],
 "metadata": {
  "kernelspec": {
   "name": "python3",
   "display_name": "Python 3.8.3 64-bit ('jakes': virtualenv)",
   "metadata": {
    "interpreter": {
     "hash": "eb61ff4cef9be30dbdd636ae3367baf7e3facd7d7992d52d58b51c8b356d01e6"
    }
   }
  },
  "language_info": {
   "codemirror_mode": {
    "name": "ipython",
    "version": 3
   },
   "file_extension": ".py",
   "mimetype": "text/x-python",
   "name": "python",
   "nbconvert_exporter": "python",
   "pygments_lexer": "ipython3",
   "version": "3.8.3-final"
  }
 },
 "nbformat": 4,
 "nbformat_minor": 2
}